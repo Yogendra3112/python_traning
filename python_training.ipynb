{
 "cells": [
  {
   "cell_type": "code",
   "execution_count": 4,
   "metadata": {},
   "outputs": [
    {
     "name": "stdout",
     "output_type": "stream",
     "text": [
      "Please enter your marksa\n",
      "Please input right input\n"
     ]
    }
   ],
   "source": [
    "# TO GIVE GRADE ACCORDING TO MARKS \n",
    "try:\n",
    "    def grade(n):\n",
    "        n = float(n)\n",
    "        if  n > 100:\n",
    "            print('Beyond the upper limit of marks')\n",
    "        elif 100>= n >=60:\n",
    "            print('You are passed with 1st division')    \n",
    "        elif  60 > n >= 45:\n",
    "            print('You are passed with 2nd division')\n",
    "        elif  45 > n >= 33:\n",
    "            print('You are passed with 3rd division')   \n",
    "        elif 33 > n >= 0:\n",
    "            print('You are failed by ', 33-n,'marks')\n",
    "        elif n < 0 :\n",
    "            print('Beyond the lower limit')  \n",
    "            \n",
    "    while(True):\n",
    "        n = input('Please enter your marks')\n",
    "        if not n :\n",
    "            print('Invalid input')\n",
    "        \n",
    "            break\n",
    "        else:\n",
    "            grade(n)\n",
    "except:\n",
    "    print('Please input right input')"
   ]
  },
  {
   "cell_type": "code",
   "execution_count": 25,
   "metadata": {},
   "outputs": [
    {
     "name": "stdout",
     "output_type": "stream",
     "text": [
      "Hello\n",
      "NMASTE\n",
      "HI\n",
      "Hello\n",
      "NMASTEHI\n",
      "\n",
      "Hello\n",
      "NMASTEHI\n",
      "\n",
      "Hello\n",
      "NMASTEHI\n",
      "\n",
      "Hello\n",
      "NMASTEHI\n",
      "\n"
     ]
    }
   ],
   "source": [
    "# THREADING \n",
    "from threading import *\n",
    "from time import sleep\n",
    "class hello(Thread):\n",
    "    def run(self):\n",
    "        for i in range(5):\n",
    "            print('Hello')\n",
    "            sleep(1)\n",
    "class hi(Thread):\n",
    "    def run(self):\n",
    "        for i in range(5):\n",
    "            print('HI')\n",
    "            sleep(1)\n",
    "\n",
    "class nmaste(Thread):\n",
    "    def run(self):\n",
    "        for i in range(5):\n",
    "            print(\"NMASTE\")\n",
    "            sleep(1)\n",
    "\n",
    "t1 = hello()\n",
    "t2 = hi()\n",
    "t3 = nmaste()\n",
    "t1.start()\n",
    "t3.start()\n",
    "t2.start()        \n"
   ]
  },
  {
   "cell_type": "markdown",
   "metadata": {},
   "source": [
    "# 01_python_Introduction_code_challenges"
   ]
  },
  {
   "cell_type": "markdown",
   "metadata": {},
   "source": [
    "## age calculator"
   ]
  },
  {
   "cell_type": "code",
   "execution_count": 23,
   "metadata": {
    "scrolled": true
   },
   "outputs": [
    {
     "name": "stdout",
     "output_type": "stream",
     "text": [
      "Your present age, Please21\n",
      "no of years5\n",
      "Please enter F for future age and P for past agep\n",
      "16\n"
     ]
    }
   ],
   "source": [
    "age = input('Your present age, Please')\n",
    "n = input('no of years')\n",
    "t = str(input('Please enter F for future age and P for past age'))\n",
    "if t == 'f' or t == 'F':\n",
    "    print(int(age)+int(n))a\n",
    "elif t == 'p' or t == 'P':\n",
    "    print(int(age)-int(n))\n",
    "else:\n",
    "    print('invalid input')\n",
    "        "
   ]
  },
  {
   "cell_type": "markdown",
   "metadata": {},
   "source": [
    "## foots to meter"
   ]
  },
  {
   "cell_type": "code",
   "execution_count": 6,
   "metadata": {
    "scrolled": true
   },
   "outputs": [
    {
     "name": "stdout",
     "output_type": "stream",
     "text": [
      "enter your height in Foot5.6\n",
      "Something not expected\n"
     ]
    }
   ],
   "source": [
    "try:\n",
    "    import re\n",
    "    h = input('enter your height in Foot')\n",
    "\n",
    "    # print(f,i)\n",
    "    def foot_to_meter(x):\n",
    "        f,i = re.split(',|;| ', x)\n",
    "        print(f,i)\n",
    "        return (float(f)*0.3048)+(float(i)*0.0254)\n",
    "    print('Your Height in meter is',round(foot_to_meter(h),2),'cm ')\n",
    "except:\n",
    "    print('Something not expected')"
   ]
  },
  {
   "cell_type": "markdown",
   "metadata": {},
   "source": [
    "## BMI Calculator"
   ]
  },
  {
   "cell_type": "code",
   "execution_count": 11,
   "metadata": {
    "scrolled": false
   },
   "outputs": [
    {
     "name": "stdout",
     "output_type": "stream",
     "text": [
      "Your weight,please in Kgs47\n",
      "your weight ,please in meters1.67\n",
      "your BMI is 16.85252249991036\n"
     ]
    }
   ],
   "source": [
    "# BMI Calculator\n",
    "w = float(input('Your weight,please in Kgs'))\n",
    "h = float(input('your weight ,please in meters'))\n",
    "def BMI(w,h):\n",
    "    return w/(h*h)\n",
    "print('your BMI is',BMI(w,h))"
   ]
  },
  {
   "cell_type": "markdown",
   "metadata": {},
   "source": [
    "## ponderal Calculator"
   ]
  },
  {
   "cell_type": "code",
   "execution_count": 13,
   "metadata": {
    "scrolled": true
   },
   "outputs": [
    {
     "name": "stdout",
     "output_type": "stream",
     "text": [
      "Your weight,please in Kgs47\n",
      "your weight ,please in meters1.67\n",
      "10.091330838269677\n"
     ]
    }
   ],
   "source": [
    "#ponderal index \n",
    "w = float(input('Your weight,please in Kgs'))\n",
    "h = float(input('your weight ,please in meters'))\n",
    "print(BMI(w,h)/h) # used BMI() from above cell"
   ]
  },
  {
   "cell_type": "markdown",
   "metadata": {},
   "source": [
    "## Max Heart and Target Heart Range "
   ]
  },
  {
   "cell_type": "code",
   "execution_count": 24,
   "metadata": {
    "scrolled": false
   },
   "outputs": [
    {
     "name": "stdout",
     "output_type": "stream",
     "text": [
      "Your weight,please in Kgs47\n",
      "your weight ,please in meters1.56\n",
      "Your maximum heart rate is 218.44\n",
      "Your target heart range is 32.76600000000002\n"
     ]
    }
   ],
   "source": [
    "w = float(input('Your weight,please in Kgs'))\n",
    "h = float(input('your weight ,please in meters'))\n",
    "print('Your maximum heart rate is',220-h)\n",
    "lower_heartrate_end=((220-h)*70)/100\n",
    "upper_heartrate_end=((220-h)*85)/100\n",
    "print('Your target heart range is',upper_heartrate_end-lower_heartrate_end)"
   ]
  },
  {
   "cell_type": "markdown",
   "metadata": {},
   "source": [
    "## temperature converter"
   ]
  },
  {
   "cell_type": "code",
   "execution_count": 20,
   "metadata": {},
   "outputs": [
    {
     "name": "stdout",
     "output_type": "stream",
     "text": [
      "temperature in celcius32\n",
      "temperature in fahrenheit is 89.6 F\n",
      "temperature in kelvin is 305.0 K\n"
     ]
    }
   ],
   "source": [
    "# temperature converter \n",
    "t = float(input('temperature in celcius'))\n",
    "print('temperature in fahrenheit is',((t*9/5)+32),'F')\n",
    "print('temperature in kelvin is',t+273,'K')"
   ]
  },
  {
   "cell_type": "markdown",
   "metadata": {},
   "source": [
    "## Mileage calculator"
   ]
  },
  {
   "cell_type": "code",
   "execution_count": 26,
   "metadata": {
    "scrolled": true
   },
   "outputs": [
    {
     "name": "stdout",
     "output_type": "stream",
     "text": [
      "volume of gas5\n",
      "distance travelled25\n",
      "mileage is 5.0 km/L\n"
     ]
    }
   ],
   "source": [
    "# gas mileage colculator\n",
    "v = float(input('volume of gas'))\n",
    "d = float(input('distance travelled'))\n",
    "print('mileage is',d/v,'km/L')"
   ]
  },
  {
   "cell_type": "markdown",
   "metadata": {},
   "source": [
    "## Ride cost Calculator"
   ]
  },
  {
   "cell_type": "code",
   "execution_count": 29,
   "metadata": {},
   "outputs": [
    {
     "name": "stdout",
     "output_type": "stream",
     "text": [
      "enter your distance35\n",
      "cost of your ride is 155.5556 INR\n"
     ]
    }
   ],
   "source": [
    "d = int(input('enter your distance'))\n",
    "print('cost of your ride is',round(((d/18)*80),4),'INR')"
   ]
  },
  {
   "cell_type": "markdown",
   "metadata": {},
   "source": [
    "## Gravity Calculator"
   ]
  },
  {
   "cell_type": "code",
   "execution_count": 35,
   "metadata": {},
   "outputs": [
    {
     "name": "stdout",
     "output_type": "stream",
     "text": [
      "enter time in seconds5\n",
      "distane covered is 122.625 m\n"
     ]
    }
   ],
   "source": [
    "\n",
    "t = float(input('enter time in seconds'))\n",
    "print('distane covered is',round(((9.81*t*t)/2),4),'m')"
   ]
  },
  {
   "cell_type": "markdown",
   "metadata": {},
   "source": [
    "## Weighted score Calculator"
   ]
  },
  {
   "cell_type": "code",
   "execution_count": 58,
   "metadata": {},
   "outputs": [
    {
     "name": "stdout",
     "output_type": "stream",
     "text": [
      "Enter assignment marks followed by exams marks1;2;3;4;5\n",
      "6.35\n"
     ]
    }
   ],
   "source": [
    "import re\n",
    "m =input('Enter assignment marks followed by exams marks')\n",
    "a1, a2, a3, e1, e2 = re.split(' |,|;', m)\n",
    "print((int(a1)+int(a2)+int(a3))*0.1 + (int(e1)+int(e2)*0.35))"
   ]
  },
  {
   "cell_type": "markdown",
   "metadata": {},
   "source": [
    "# 02_python_introduction_basic_code_challenges"
   ]
  },
  {
   "cell_type": "markdown",
   "metadata": {},
   "source": [
    "## addind quotes to name"
   ]
  },
  {
   "cell_type": "code",
   "execution_count": 30,
   "metadata": {
    "scrolled": true
   },
   "outputs": [
    {
     "name": "stdout",
     "output_type": "stream",
     "text": [
      "your first name please : yogi\n",
      "and last name : baba\n",
      "your are : \n",
      "\" yogi \"\n",
      "\" baba \"\n"
     ]
    }
   ],
   "source": [
    "f = input('your first name please : ')\n",
    "l = input('and last name : ')\n",
    "print('your are : ')\n",
    "print('\"',f,'\"')\n",
    "print('\"',l,'\"')"
   ]
  },
  {
   "cell_type": "markdown",
   "metadata": {},
   "source": [
    "## adding degree celcius using unicode"
   ]
  },
  {
   "cell_type": "code",
   "execution_count": 89,
   "metadata": {
    "scrolled": true
   },
   "outputs": [
    {
     "name": "stdout",
     "output_type": "stream",
     "text": [
      "enter temperatuer36\n",
      "36 ° C\n"
     ]
    }
   ],
   "source": [
    "t = input('enter temperatuer')\n",
    "print(t,'\\u00b0','C')"
   ]
  },
  {
   "cell_type": "markdown",
   "metadata": {},
   "source": [
    "## copyright statement using unicode"
   ]
  },
  {
   "cell_type": "code",
   "execution_count": 93,
   "metadata": {
    "scrolled": true
   },
   "outputs": [
    {
     "name": "stdout",
     "output_type": "stream",
     "text": [
      "UNIX ® and Sum Microsystem ™ are Copyright © , 2019 Oracle.\n"
     ]
    }
   ],
   "source": [
    "print('UNIX','\\u00AE','and Sum Microsystem','\\u2122','are Copyright','\\u00A9',', 2019 Oracle.')"
   ]
  },
  {
   "cell_type": "markdown",
   "metadata": {},
   "source": [
    "## devnagri (name in hindi)"
   ]
  },
  {
   "cell_type": "code",
   "execution_count": 121,
   "metadata": {
    "scrolled": false
   },
   "outputs": [
    {
     "name": "stdout",
     "output_type": "stream",
     "text": [
      "योगेन्दर् कुमार\n"
     ]
    }
   ],
   "source": [
    "print('\\u092f'+'\\u094b'+'\\u0917'+'\\u0947'+'\\u0928'+'\\u094d'+'\\u0926'+'\\u0930'+'\\u094d'+' '+'\\u0915'+'\\u0941'+'\\u092e'+'\\u093e'+'\\u0930')"
   ]
  },
  {
   "cell_type": "markdown",
   "metadata": {},
   "source": [
    "## Printing checkboard pattern"
   ]
  },
  {
   "cell_type": "code",
   "execution_count": 267,
   "metadata": {
    "scrolled": true
   },
   "outputs": [
    {
     "name": "stdout",
     "output_type": "stream",
     "text": [
      " \n",
      "✱ ✱ ✱ ✱ ✱ ✱ ✱ ✱  \n",
      "  ✱ ✱ ✱ ✱ ✱ ✱ ✱ ✱  \n",
      "✱ ✱ ✱ ✱ ✱ ✱ ✱ ✱  \n",
      "  ✱ ✱ ✱ ✱ ✱ ✱ ✱ ✱  \n",
      "✱ ✱ ✱ ✱ ✱ ✱ ✱ ✱  \n",
      "  ✱ ✱ ✱ ✱ ✱ ✱ ✱ ✱  \n",
      "✱ ✱ ✱ ✱ ✱ ✱ ✱ ✱ "
     ]
    }
   ],
   "source": [
    "for j in range(7):\n",
    "    if j%2==0:\n",
    "        print(' ')\n",
    "        for i in range(0,8):\n",
    "            print('\\u2731',end=' ')\n",
    "        \n",
    "    else:\n",
    "        print(' ')\n",
    "        for i in range(1,9):\n",
    "            if i ==1:\n",
    "                print(' ','\\u2731','',end='')\n",
    "            else:\n",
    "                \n",
    "                print('\\u2731',end=' ')\n",
    "        "
   ]
  },
  {
   "cell_type": "markdown",
   "metadata": {},
   "source": [
    "## BMI Help Screen"
   ]
  },
  {
   "cell_type": "code",
   "execution_count": 182,
   "metadata": {
    "scrolled": true
   },
   "outputs": [
    {
     "name": "stdout",
     "output_type": "stream",
     "text": [
      "\n",
      "         Sever Thinness: less than 16\n",
      "         Moderate Thinness: between 16 and 16.9\n",
      "         Mild Thinness: between 17 and 18.5\n",
      "         Normal : between 18.5 and 24.9\n",
      "         Overweight: between 25 and 29.9\n",
      "         Obese Class I: between 30 and 34.9 \n",
      "         Obese Class II: between 35 and 39.9\n",
      "         Obese Class III: between 40 or greater\n"
     ]
    }
   ],
   "source": [
    "print(\"\"\"\n",
    "         Sever Thinness: less than 16\n",
    "         Moderate Thinness: between 16 and 16.9\n",
    "         Mild Thinness: between 17 and 18.5\n",
    "         Normal : between 18.5 and 24.9\n",
    "         Overweight: between 25 and 29.9\n",
    "         Obese Class I: between 30 and 34.9 \n",
    "         Obese Class II: between 35 and 39.9\n",
    "         Obese Class III: between 40 or greater\"\"\")"
   ]
  },
  {
   "cell_type": "markdown",
   "metadata": {},
   "source": [
    "## BMI in Hindi"
   ]
  },
  {
   "cell_type": "code",
   "execution_count": 226,
   "metadata": {},
   "outputs": [
    {
     "name": "stdout",
     "output_type": "stream",
     "text": [
      "वजन59\n",
      "लम्बाई1.69\n",
      "आपका BMI है 20.6575\n"
     ]
    }
   ],
   "source": [
    "# BMI Calculator\n",
    "w = float(input('\\u0935'+'\\u091c'+'\\u0928'))\n",
    "h = float(input('\\u0932'+'\\u092e'+'\\u094d'+'\\u092c'+'\\u093e'+'\\u0908'))\n",
    "def BMI(w,h):\n",
    "    return w/(h*h)\n",
    "print('\\u0906'+'\\u092a'+'\\u0915'+'\\u093e'+' BMI '+'\\u0939'+'\\u0948',round(BMI(w,h),4))"
   ]
  },
  {
   "cell_type": "markdown",
   "metadata": {},
   "source": [
    "## To generate random float no."
   ]
  },
  {
   "cell_type": "code",
   "execution_count": 305,
   "metadata": {
    "scrolled": false
   },
   "outputs": [
    {
     "name": "stdout",
     "output_type": "stream",
     "text": [
      "3.2688\n"
     ]
    }
   ],
   "source": [
    "import random\n",
    "x= random.uniform(3.0,7.0)\n",
    "print(round(x,4))"
   ]
  },
  {
   "cell_type": "markdown",
   "metadata": {},
   "source": [
    "## To generate dice simulation"
   ]
  },
  {
   "cell_type": "code",
   "execution_count": 442,
   "metadata": {},
   "outputs": [
    {
     "name": "stdout",
     "output_type": "stream",
     "text": [
      "4\n"
     ]
    }
   ],
   "source": [
    "x= random.randrange(1,7)\n",
    "print(x)"
   ]
  },
  {
   "cell_type": "markdown",
   "metadata": {},
   "source": [
    "## To Simulate Rock Paper and Scissors game"
   ]
  },
  {
   "cell_type": "code",
   "execution_count": 443,
   "metadata": {
    "scrolled": false
   },
   "outputs": [
    {
     "name": "stdout",
     "output_type": "stream",
     "text": [
      "paper\n"
     ]
    }
   ],
   "source": [
    "x= random.choice(['rock','paper','scissors'])\n",
    "print(x)"
   ]
  },
  {
   "cell_type": "markdown",
   "metadata": {},
   "source": [
    "## Factorial "
   ]
  },
  {
   "cell_type": "code",
   "execution_count": 25,
   "metadata": {},
   "outputs": [
    {
     "name": "stdout",
     "output_type": "stream",
     "text": [
      "enter to calculate factorial0\n",
      "1\n"
     ]
    }
   ],
   "source": [
    "n = int(input('enter to calculate factorial'))\n",
    "if n==0:\n",
    "    print('1')\n",
    "else:\n",
    "    for i in range(1,n):\n",
    "        n= n*i\n",
    "    print(n)        "
   ]
  },
  {
   "cell_type": "markdown",
   "metadata": {},
   "source": [
    "## Perimeter and Area of the circle"
   ]
  },
  {
   "cell_type": "code",
   "execution_count": 29,
   "metadata": {
    "scrolled": true
   },
   "outputs": [
    {
     "name": "stdout",
     "output_type": "stream",
     "text": [
      "Enter radius in meter5\n",
      "perimeter of circle is 31.400000000000002 m\n",
      "and area is 78.5 ㎡\n"
     ]
    }
   ],
   "source": [
    "r = int(input('Enter radius in meter'))\n",
    "print('perimeter of circle is',2*3.14*r,'m')\n",
    "print('and area is',3.14*r*r,'\\u33A1')"
   ]
  },
  {
   "cell_type": "markdown",
   "metadata": {},
   "source": [
    "## Hands On indexing"
   ]
  },
  {
   "cell_type": "code",
   "execution_count": 99,
   "metadata": {
    "scrolled": true
   },
   "outputs": [
    {
     "name": "stdout",
     "output_type": "stream",
     "text": [
      "R j s h n "
     ]
    }
   ],
   "source": [
    "x ='Rajasthan'\n",
    "for i in range(len(x)):\n",
    "    if i%2==0:\n",
    "        print(x[i],end=' ')\n",
    "\n"
   ]
  },
  {
   "cell_type": "code",
   "execution_count": 98,
   "metadata": {},
   "outputs": [
    {
     "name": "stdout",
     "output_type": "stream",
     "text": [
      "nahtsajaR"
     ]
    }
   ],
   "source": [
    "x ='Rajasthan'\n",
    "for i in range(len(x),0,-1):\n",
    "    \n",
    "     print(x[i-1],end=' ')"
   ]
  },
  {
   "cell_type": "code",
   "execution_count": 55,
   "metadata": {},
   "outputs": [
    {
     "name": "stdout",
     "output_type": "stream",
     "text": [
      "Forsk\n"
     ]
    }
   ],
   "source": [
    "x ='Forsk Technologies'\n",
    "print(x[:5])"
   ]
  },
  {
   "cell_type": "code",
   "execution_count": 56,
   "metadata": {},
   "outputs": [
    {
     "name": "stdout",
     "output_type": "stream",
     "text": [
      "Technologies\n"
     ]
    }
   ],
   "source": [
    "x ='Forsk Technologies'\n",
    "print(x[6:])"
   ]
  },
  {
   "cell_type": "code",
   "execution_count": 57,
   "metadata": {},
   "outputs": [
    {
     "name": "stdout",
     "output_type": "stream",
     "text": [
      "Forsk\n"
     ]
    }
   ],
   "source": [
    "x ='Forsk Technologies'\n",
    "print(x[:-13])"
   ]
  },
  {
   "cell_type": "code",
   "execution_count": 59,
   "metadata": {},
   "outputs": [
    {
     "name": "stdout",
     "output_type": "stream",
     "text": [
      " Technologies\n"
     ]
    }
   ],
   "source": [
    "x ='Forsk Technologies'\n",
    "print(x[-13:])"
   ]
  },
  {
   "cell_type": "code",
   "execution_count": 78,
   "metadata": {
    "scrolled": true
   },
   "outputs": [
    {
     "name": "stdout",
     "output_type": "stream",
     "text": [
      " ksroF"
     ]
    }
   ],
   "source": [
    "x ='Forsk Technologies'\n",
    "for i in range(-13,-19,-1):\n",
    "    print(x[i],end='')"
   ]
  },
  {
   "cell_type": "code",
   "execution_count": 84,
   "metadata": {},
   "outputs": [
    {
     "name": "stdout",
     "output_type": "stream",
     "text": [
      "seigolonhceT ksroF"
     ]
    }
   ],
   "source": [
    "x ='Forsk Technologies'\n",
    "for i in range(-1,-19,-1):\n",
    "    print(x[i],end='')"
   ]
  },
  {
   "cell_type": "code",
   "execution_count": 90,
   "metadata": {
    "scrolled": false
   },
   "outputs": [
    {
     "name": "stdout",
     "output_type": "stream",
     "text": [
      "seigolonhceT ksroF"
     ]
    }
   ],
   "source": [
    "x ='Forsk Technologies'\n",
    "for i in range(17,-1,-1):\n",
    "    print(x[i],end='')"
   ]
  },
  {
   "cell_type": "code",
   "execution_count": 93,
   "metadata": {},
   "outputs": [
    {
     "name": "stdout",
     "output_type": "stream",
     "text": [
      "asdfg hjkl;\n"
     ]
    }
   ],
   "source": [
    "x = 'asdfg'\n",
    "y = 'hjkl;'\n",
    "print(x+' '+y)"
   ]
  },
  {
   "cell_type": "markdown",
   "metadata": {},
   "source": [
    "## To Count no. of words in a sentence"
   ]
  },
  {
   "cell_type": "code",
   "execution_count": 129,
   "metadata": {},
   "outputs": [
    {
     "name": "stdout",
     "output_type": "stream",
     "text": [
      "enter sentenceasd asd \n",
      "2\n"
     ]
    }
   ],
   "source": [
    "s = str(input('enter sentence'))\n",
    "j=0\n",
    "for i in s.split():\n",
    "    j=j+1\n",
    "    \n",
    "    \n",
    "print(j)    "
   ]
  },
  {
   "cell_type": "markdown",
   "metadata": {},
   "source": [
    "## To Reverse a String"
   ]
  },
  {
   "cell_type": "code",
   "execution_count": 125,
   "metadata": {},
   "outputs": [
    {
     "name": "stdout",
     "output_type": "stream",
     "text": [
      "enter sentencezxfc sdf  sf sf sfs f s\n",
      "s f sfs fs fs  fds cfxz"
     ]
    }
   ],
   "source": [
    "s = str(input('enter sentence'))\n",
    "for i in range(len(s)-1,-1,-1):\n",
    "    print(s[i],end='')"
   ]
  },
  {
   "cell_type": "markdown",
   "metadata": {},
   "source": [
    "## REPLACING ALL ACCURANCE OF 1st LETTER EXCEPT 1 TIME"
   ]
  },
  {
   "cell_type": "code",
   "execution_count": 142,
   "metadata": {},
   "outputs": [
    {
     "name": "stdout",
     "output_type": "stream",
     "text": [
      "enter sentenceasd as da sd a\n",
      "['a', 's', 'd', ' ', ' * ', 's', ' ', 'd', ' * ', ' ', 's', 'd', ' ', ' * ']\n"
     ]
    }
   ],
   "source": [
    "s = str(input('enter sentence'))\n",
    "k = s[0]\n",
    "y =[i.replace(k,' * ') for i in s]\n",
    "    \n",
    "y[0]=k       \n",
    "print(y)"
   ]
  },
  {
   "cell_type": "markdown",
   "metadata": {},
   "source": [
    "## Replacing related \"not .... bad\" to \"good\""
   ]
  },
  {
   "cell_type": "code",
   "execution_count": 1,
   "metadata": {
    "scrolled": true
   },
   "outputs": [
    {
     "name": "stdout",
     "output_type": "stream",
     "text": [
      "enter stringasd asd not bad\n",
      "asd good \n"
     ]
    }
   ],
   "source": [
    "s = str(input('enter string'))\n",
    "k=0\n",
    "l=0\n",
    "y= s.split() \n",
    "for i in y:\n",
    "    if i=='not':\n",
    "        k=y.index(i)\n",
    "    elif i=='bad':\n",
    "        l=y.index(i)\n",
    "    else:\n",
    "        pass\n",
    "if k==0 and l==0:\n",
    "    print('not and bad are not related')\n",
    "else:    \n",
    "    f1=''.join(y[:k-1])\n",
    "    f2=''.join(y[l+1:])\n",
    "\n",
    "    print(f1,'good',f2)        "
   ]
  },
  {
   "cell_type": "markdown",
   "metadata": {},
   "source": [
    "## Messy salary to integer"
   ]
  },
  {
   "cell_type": "code",
   "execution_count": 8,
   "metadata": {},
   "outputs": [
    {
     "name": "stdout",
     "output_type": "stream",
     "text": [
      "enter your salary123 123\n",
      "123123\n"
     ]
    }
   ],
   "source": [
    "n = input('enter your salary')\n",
    "print(n.replace('$','').replace(',','').replace('\\u20B9','').replace(' ',''))\n"
   ]
  },
  {
   "cell_type": "markdown",
   "metadata": {},
   "source": [
    "## Styling of String"
   ]
  },
  {
   "cell_type": "code",
   "execution_count": 20,
   "metadata": {},
   "outputs": [
    {
     "name": "stdout",
     "output_type": "stream",
     "text": [
      "enter your stringsaad asd asd \n",
      "upper case is: SAAD ASD ASD \n",
      "lower case is: saad asd asd \n",
      "CamelCase case is: SaadAsdAsd\n"
     ]
    }
   ],
   "source": [
    "s = input('enter your string')\n",
    "print('upper case is:',s.upper())\n",
    "print('lower case is:',s.lower())\n",
    "print('CamelCase case is:',s.title().replace(' ',''))"
   ]
  },
  {
   "cell_type": "markdown",
   "metadata": {},
   "source": [
    "## Replacing first Char by $ except first one"
   ]
  },
  {
   "cell_type": "code",
   "execution_count": 31,
   "metadata": {},
   "outputs": [
    {
     "name": "stdout",
     "output_type": "stream",
     "text": [
      "enter your stringRESTART\n",
      "RESTA$T\n"
     ]
    }
   ],
   "source": [
    "s = str(input('enter your string'))\n",
    "k=s[0]\n",
    "y=[i.replace(k,'$') for i in s]\n",
    "y[0]=k\n",
    "print(''.join(y))"
   ]
  },
  {
   "cell_type": "markdown",
   "metadata": {},
   "source": [
    "## String Handling (string in reverse order)"
   ]
  },
  {
   "cell_type": "code",
   "execution_count": 45,
   "metadata": {},
   "outputs": [
    {
     "name": "stdout",
     "output_type": "stream",
     "text": [
      "enter stringJai HO\n",
      "HO Jai "
     ]
    }
   ],
   "source": [
    "s = input('enter string')\n",
    "y=s.split(' ')\n",
    "for i in range(len(y)-1,-1,-1):\n",
    "    print(y[i],end=' ')"
   ]
  },
  {
   "cell_type": "markdown",
   "metadata": {},
   "source": [
    "## replacing space with ' * '"
   ]
  },
  {
   "cell_type": "code",
   "execution_count": 42,
   "metadata": {
    "scrolled": true
   },
   "outputs": [
    {
     "name": "stdout",
     "output_type": "stream",
     "text": [
      "enter your stringWelcome to Pink City Jaipur\n",
      "Welcome✱to✱Pink✱City✱Jaipur\n"
     ]
    }
   ],
   "source": [
    "s=input('enter your string')\n",
    "print(s.replace(' ','\\u2731'))"
   ]
  },
  {
   "cell_type": "markdown",
   "metadata": {},
   "source": [
    "## adding * after evry chararters in string including spaces"
   ]
  },
  {
   "cell_type": "code",
   "execution_count": 92,
   "metadata": {},
   "outputs": [
    {
     "name": "stdout",
     "output_type": "stream",
     "text": [
      "enetr your string  asd ewq\n",
      "a*s*d* *e*w*q\n"
     ]
    }
   ],
   "source": [
    "s = input('enetr your string  ')\n",
    "print('*'.join([i for i in s]))\n"
   ]
  },
  {
   "cell_type": "markdown",
   "metadata": {},
   "source": [
    "## To Swap First and Last name"
   ]
  },
  {
   "cell_type": "code",
   "execution_count": 90,
   "metadata": {
    "scrolled": true
   },
   "outputs": [
    {
     "name": "stdout",
     "output_type": "stream",
     "text": [
      "enter your stringyogendra kumar\n",
      "kumar yogendra "
     ]
    }
   ],
   "source": [
    "s=input('enter your string')\n",
    "y=s.split()\n",
    "for i in range(len(y)):\n",
    "    print(y[len(y)-i-1],end=' ')"
   ]
  },
  {
   "cell_type": "markdown",
   "metadata": {},
   "source": [
    "## To count no. of donuts"
   ]
  },
  {
   "cell_type": "code",
   "execution_count": 93,
   "metadata": {
    "scrolled": true
   },
   "outputs": [
    {
     "name": "stdout",
     "output_type": "stream",
     "text": [
      "enter stringasdasdo rgov rog rpkg ef g\n",
      "enter donut to countg\n",
      "you have  4  donuts\n"
     ]
    }
   ],
   "source": [
    "s=input('enter string')\n",
    "donut=input('enter donut to count')\n",
    "n = s.count(donut)\n",
    "if n >=10:\n",
    "    print('to many donut')\n",
    "else:\n",
    "    print('you have ',n,' donuts')"
   ]
  },
  {
   "cell_type": "markdown",
   "metadata": {},
   "source": [
    "## To add First and Last 2 char of string"
   ]
  },
  {
   "cell_type": "code",
   "execution_count": 97,
   "metadata": {
    "scrolled": true
   },
   "outputs": [
    {
     "name": "stdout",
     "output_type": "stream",
     "text": [
      "enter stringqw\n",
      "qwqw\n"
     ]
    }
   ],
   "source": [
    "s = input('enter string')\n",
    "a = s[:2]\n",
    "b = s[-2:]\n",
    "print(a+b)"
   ]
  },
  {
   "cell_type": "markdown",
   "metadata": {},
   "source": [
    "## Title according to Age"
   ]
  },
  {
   "cell_type": "code",
   "execution_count": 116,
   "metadata": {},
   "outputs": [
    {
     "name": "stdout",
     "output_type": "stream",
     "text": [
      "enter your age100\n",
      "senior citizen\n"
     ]
    }
   ],
   "source": [
    "n = int(input('enter your age'))\n",
    "if n>=0 and n<1:\n",
    "    print('Infant')\n",
    "elif n>=1 and n<18:\n",
    "    print('child')\n",
    "elif 18<=n<60 :\n",
    "    print('Adult')\n",
    "elif 60<=n:\n",
    "    print('senior citizen')\n",
    "else:\n",
    "    print('Wrong input')"
   ]
  },
  {
   "cell_type": "markdown",
   "metadata": {},
   "source": [
    "## Replacing last 3 char by ing"
   ]
  },
  {
   "cell_type": "code",
   "execution_count": 121,
   "metadata": {
    "scrolled": true
   },
   "outputs": [
    {
     "name": "stdout",
     "output_type": "stream",
     "text": [
      "enter stringq\n",
      "q\n"
     ]
    }
   ],
   "source": [
    "s = input('enter string')\n",
    "if len(s)>=3:\n",
    "    y=s.replace(s[-3:],'ing')\n",
    "    print(y)\n",
    "else:\n",
    "    print(s)"
   ]
  },
  {
   "cell_type": "markdown",
   "metadata": {},
   "source": [
    "## Dividing string in two halves"
   ]
  },
  {
   "cell_type": "code",
   "execution_count": 147,
   "metadata": {},
   "outputs": [
    {
     "name": "stdout",
     "output_type": "stream",
     "text": [
      "enter stringqwe\n",
      "1\n",
      "qw   e\n"
     ]
    }
   ],
   "source": [
    "import math\n",
    "s = input('enter string')\n",
    "k=int(len(s)/2)\n",
    "print(k)\n",
    "if (len(s)%2)==0:\n",
    "    print(s[:k]+' '+s[k:])\n",
    "else:\n",
    "    print(s[:math.ceil(k)+1],' ',s[math.floor(k)+1:])"
   ]
  },
  {
   "cell_type": "markdown",
   "metadata": {},
   "source": [
    "# Hands On with While Loop"
   ]
  },
  {
   "cell_type": "markdown",
   "metadata": {},
   "source": [
    "## TO PRINT 1 TO 10 NO."
   ]
  },
  {
   "cell_type": "code",
   "execution_count": 153,
   "metadata": {},
   "outputs": [
    {
     "name": "stdout",
     "output_type": "stream",
     "text": [
      "1\n",
      "2\n",
      "3\n",
      "4\n",
      "5\n",
      "6\n",
      "7\n",
      "8\n",
      "9\n",
      "10\n"
     ]
    }
   ],
   "source": [
    "n=0\n",
    "while(n<10):\n",
    "    print(n+1)\n",
    "    n=n+1"
   ]
  },
  {
   "cell_type": "markdown",
   "metadata": {},
   "source": [
    "## ABOVE CODE WITH WHILE TRUE LOOP"
   ]
  },
  {
   "cell_type": "code",
   "execution_count": 159,
   "metadata": {},
   "outputs": [
    {
     "name": "stdout",
     "output_type": "stream",
     "text": [
      "1\n",
      "2\n",
      "3\n",
      "4\n",
      "5\n",
      "6\n",
      "7\n",
      "8\n",
      "9\n",
      "10\n"
     ]
    }
   ],
   "source": [
    "n=0\n",
    "while(True):\n",
    "    if n<10:\n",
    "        print(n+1)\n",
    "        n=n+1\n",
    "    else:\n",
    "        break"
   ]
  },
  {
   "cell_type": "markdown",
   "metadata": {},
   "source": [
    "## TO PRINT EVEN BETWEEN 1 TO 10"
   ]
  },
  {
   "cell_type": "code",
   "execution_count": 12,
   "metadata": {},
   "outputs": [
    {
     "name": "stdout",
     "output_type": "stream",
     "text": [
      "2\n",
      "4\n",
      "6\n",
      "8\n"
     ]
    }
   ],
   "source": [
    "n=2\n",
    "while( n<10):\n",
    "    if n%2==0:\n",
    "        print(n)\n",
    "    \n",
    "    else:\n",
    "        pass\n",
    "    n=n+1    "
   ]
  },
  {
   "cell_type": "markdown",
   "metadata": {},
   "source": [
    "## ABOVE PROBLEM WITH WHILE TRUE LOOP"
   ]
  },
  {
   "cell_type": "code",
   "execution_count": 213,
   "metadata": {
    "scrolled": false
   },
   "outputs": [
    {
     "name": "stdout",
     "output_type": "stream",
     "text": [
      "0\n",
      "2\n",
      "4\n",
      "6\n",
      "8\n"
     ]
    }
   ],
   "source": [
    "n=2\n",
    "while(True):\n",
    "    if(n<10 and n%2==0):\n",
    "        print(n)\n",
    "    elif(n>10):\n",
    "        break\n",
    "    else:\n",
    "        pass\n",
    "    n=n+1"
   ]
  },
  {
   "cell_type": "markdown",
   "metadata": {},
   "source": [
    "## TO PRINT ODD BETWEEN 1 TO 10"
   ]
  },
  {
   "cell_type": "code",
   "execution_count": 214,
   "metadata": {
    "scrolled": false
   },
   "outputs": [
    {
     "name": "stdout",
     "output_type": "stream",
     "text": [
      "1\n",
      "3\n",
      "5\n",
      "7\n",
      "9\n"
     ]
    }
   ],
   "source": [
    "n=0\n",
    "while(True):\n",
    "    if(n<10 and n%2==0):\n",
    "        print(n+1)\n",
    "    elif(n>10):\n",
    "        break\n",
    "    else:\n",
    "        pass\n",
    "    n=n+1"
   ]
  },
  {
   "cell_type": "code",
   "execution_count": 2,
   "metadata": {},
   "outputs": [
    {
     "name": "stdout",
     "output_type": "stream",
     "text": [
      "1\n",
      "3\n",
      "5\n",
      "7\n",
      "9\n"
     ]
    }
   ],
   "source": [
    "n=0\n",
    "while( n<10):\n",
    "    n=n+1\n",
    "    while(n%2!=0):\n",
    "        print(n)\n",
    "        n=n+1\n",
    "            \n",
    "    \n",
    "    \n",
    "           "
   ]
  },
  {
   "cell_type": "markdown",
   "metadata": {},
   "source": [
    "## To Print Fizz, Buzz and FizzBuzz for multiple of 3, 5, and 3 & 5"
   ]
  },
  {
   "cell_type": "code",
   "execution_count": 218,
   "metadata": {
    "scrolled": false
   },
   "outputs": [
    {
     "name": "stdout",
     "output_type": "stream",
     "text": [
      "1\n",
      "2\n",
      "Fizz\n",
      "4\n",
      "Buzz\n",
      "Fizz\n",
      "7\n",
      "8\n",
      "Fizz\n",
      "Buzz\n",
      "11\n",
      "Fizz\n",
      "13\n",
      "14\n",
      "FizzBuzz\n",
      "16\n",
      "17\n",
      "Fizz\n",
      "19\n",
      "Buzz\n",
      "Fizz\n",
      "22\n",
      "23\n",
      "Fizz\n",
      "Buzz\n",
      "26\n",
      "Fizz\n",
      "28\n",
      "29\n",
      "FizzBuzz\n",
      "31\n",
      "32\n",
      "Fizz\n",
      "34\n",
      "Buzz\n",
      "Fizz\n",
      "37\n",
      "38\n",
      "Fizz\n",
      "Buzz\n",
      "41\n",
      "Fizz\n",
      "43\n",
      "44\n",
      "FizzBuzz\n",
      "46\n",
      "47\n",
      "Fizz\n",
      "49\n",
      "Buzz\n"
     ]
    }
   ],
   "source": [
    "for i in range(1,51):\n",
    "    if(i%3==0 and i%5!=0):\n",
    "        print('Fizz')\n",
    "    elif(i%3!=0 and i%5==0):\n",
    "        print('Buzz')\n",
    "    elif(i%3==0 and i%5==0 ):\n",
    "        print('FizzBuzz')\n",
    "    else:\n",
    "        print(i)"
   ]
  },
  {
   "cell_type": "markdown",
   "metadata": {},
   "source": [
    "## 04_Python NO. GUESS GAME"
   ]
  },
  {
   "cell_type": "code",
   "execution_count": 61,
   "metadata": {},
   "outputs": [
    {
     "name": "stdout",
     "output_type": "stream",
     "text": [
      "Your guess please: 12\n",
      "Only 1-10 are valid guess\n"
     ]
    }
   ],
   "source": [
    "import random\n",
    "num =random.randrange(1,11)\n",
    "n=int(input('Your guess please: '))\n",
    "if n==num:\n",
    "    print('Congrats,You Win')\n",
    "elif n>10 or n<1:\n",
    "    print('Only 1-10 are valid guess')\n",
    "else:\n",
    "    print('Better Luck Next Time')\n"
   ]
  },
  {
   "cell_type": "code",
   "execution_count": 28,
   "metadata": {
    "scrolled": true
   },
   "outputs": [
    {
     "name": "stdout",
     "output_type": "stream",
     "text": [
      "Your (1-10) guess please: 5\n",
      "Congrats,You Win\n"
     ]
    }
   ],
   "source": [
    "import random\n",
    "num =random.randrange(1,11)\n",
    "n=int(input('Your (1-10) guess please: '))\n",
    "if n==num:\n",
    "    print('Congrats,You Win')\n",
    "elif n>10 or n<1:\n",
    "    print('Only 1-10 are valid guess')\n",
    "else:\n",
    "    print('Better Luck Next Time')\n",
    "    print('The Lucky No. Was {0} But You GUessed {1}'.format(num,n))"
   ]
  },
  {
   "cell_type": "code",
   "execution_count": 70,
   "metadata": {
    "collapsed": true
   },
   "outputs": [
    {
     "name": "stdout",
     "output_type": "stream",
     "text": [
      "Your guess please: 9\n",
      "Better Luck Next Time\n",
      "Close Enoughg\n",
      "The Lucky No. Was 10 But You GUessed 9\n"
     ]
    }
   ],
   "source": [
    "import random\n",
    "num =random.randrange(1,11)\n",
    "n=int(input('Your guess please: '))\n",
    "if n==num:\n",
    "    print('Congrats,You Win')\n",
    "    if abs(num-n)>=3:\n",
    "        print('Bad Guess')\n",
    "    else:\n",
    "        print('Close Enoughg')\n",
    "elif n>10 or n<1:\n",
    "    print('Only 1-10 are valid guess')\n",
    "else:\n",
    "    print('Better Luck Next Time')\n",
    "    if abs(num-n)>=3:\n",
    "        print('Bad Guess')\n",
    "    else:\n",
    "        print('Close Enoughg')\n",
    "print('The Lucky No. Was {0} But You GUessed {1}'.format(num,n))"
   ]
  },
  {
   "cell_type": "code",
   "execution_count": null,
   "metadata": {},
   "outputs": [],
   "source": [
    " import random\n",
    "num =random.randrange(1,11)\n",
    "\n",
    "while(True):\n",
    "    n=int(input('Your guess please: '))\n",
    "    if n==num:\n",
    "        print('Congrats,You Win')\n",
    "        if abs(num-n)>=3:\n",
    "            print('Bad Guess')\n",
    "        else:\n",
    "            print('Close Enoughg')\n",
    "        continue    \n",
    "    elif n>10 or n<1:\n",
    "        print('Only 1-10 are valid guess')\n",
    "        break\n",
    "    else:\n",
    "        print('Better Luck Next Time')\n",
    "        if abs(num-n)>=3:\n",
    "            print('Bad Guess')\n",
    "        else:\n",
    "            print('Close Enoughg')\n",
    "        break    \n",
    "print('The Lucky No. Was {0} But You GUessed {1}'.format(num,n))"
   ]
  },
  {
   "cell_type": "code",
   "execution_count": 1,
   "metadata": {
    "scrolled": true
   },
   "outputs": [
    {
     "name": "stdout",
     "output_type": "stream",
     "text": [
      "Your guess please: 5\n",
      "Better Luck Next Time\n",
      "Bad Guess\n",
      "The Lucky No. Was 2 But You GUessed 5\n",
      "Your guess please: 5\n",
      "Better Luck Next Time\n",
      "Bad Guess\n",
      "The Lucky No. Was 2 But You GUessed 5\n",
      "Your guess please: 5\n",
      "Better Luck Next Time\n",
      "Bad Guess\n",
      "The Lucky No. Was 2 But You GUessed 5\n",
      "Your guess please: 5\n",
      "Better Luck Next Time\n",
      "Bad Guess\n",
      "The Lucky No. Was 2 But You GUessed 5\n",
      "Your guess please: 5\n",
      "Better Luck Next Time\n",
      "Bad Guess\n",
      "The Lucky No. Was 2 But You GUessed 5\n",
      "Your guess please: 5\n",
      "Better Luck Next Time\n",
      "Bad Guess\n",
      "The Lucky No. Was 2 But You GUessed 5\n"
     ]
    }
   ],
   "source": [
    " import random\n",
    "num =random.randrange(1,11)\n",
    "t=0\n",
    "while(t<6):\n",
    "    while(True):\n",
    "        n=int(input('Your guess please: '))\n",
    "        if n==num:\n",
    "            print('Congrats,You Win')\n",
    "            if abs(num-n)>=3:\n",
    "                print('Bad Guess')\n",
    "            else:\n",
    "                print('Close Enoughg')\n",
    "            continue    \n",
    "        elif n>10 or n<1:\n",
    "            print('Only 1-10 are valid guess')\n",
    "            break\n",
    "        else:\n",
    "            print('Better Luck Next Time')\n",
    "            if abs(num-n)>=3:\n",
    "                print('Bad Guess')\n",
    "            else:\n",
    "                print('Close Enoughg')\n",
    "            break    \n",
    "    print('The Lucky No. Was {0} But You GUessed {1}'.format(num,n))\n",
    "    t=t+1"
   ]
  },
  {
   "cell_type": "code",
   "execution_count": 3,
   "metadata": {},
   "outputs": [
    {
     "name": "stdout",
     "output_type": "stream",
     "text": [
      "Your guess please: 6\n",
      "Better Luck Next Time\n",
      "Close Enoughg\n",
      "The Lucky No. Was 5 But You GUessed 6\n",
      "5 Tries Left\n",
      "Your guess please: 6\n",
      "Better Luck Next Time\n",
      "Close Enoughg\n",
      "The Lucky No. Was 5 But You GUessed 6\n",
      "4 Tries Left\n",
      "Your guess please: 6\n",
      "Better Luck Next Time\n",
      "Close Enoughg\n",
      "The Lucky No. Was 5 But You GUessed 6\n",
      "3 Tries Left\n",
      "Your guess please: 6\n",
      "Better Luck Next Time\n",
      "Close Enoughg\n",
      "The Lucky No. Was 5 But You GUessed 6\n",
      "2 Tries Left\n",
      "Your guess please: 6\n",
      "Better Luck Next Time\n",
      "Close Enoughg\n",
      "The Lucky No. Was 5 But You GUessed 6\n",
      "1 Tries Left\n",
      "Your guess please: 6\n",
      "Better Luck Next Time\n",
      "Close Enoughg\n",
      "The Lucky No. Was 5 But You GUessed 6\n",
      "0 Tries Left\n"
     ]
    }
   ],
   "source": [
    "import random\n",
    "num =random.randrange(1,11)\n",
    "t=0\n",
    "while(t<6):\n",
    "    while(True):\n",
    "        n=int(input('Your guess please: '))\n",
    "        if n==num:\n",
    "            print('Congrats,You Win')\n",
    "            if abs(num-n)>=3:\n",
    "                print('Bad Guess')\n",
    "            else:\n",
    "                print('Close Enoughg')\n",
    "            continue    \n",
    "        elif n>10 or n<1:\n",
    "            print('Only 1-10 are valid guess')\n",
    "            break\n",
    "        else:\n",
    "            print('Better Luck Next Time')\n",
    "            if abs(num-n)>=3:\n",
    "                print('Bad Guess')\n",
    "            else:\n",
    "                print('Close Enoughg')\n",
    "            break    \n",
    "    print('The Lucky No. Was {0} But You GUessed {1}'.format(num,n))\n",
    "    t=t+1\n",
    "    print(6-t,'Tries Left')"
   ]
  },
  {
   "cell_type": "markdown",
   "metadata": {},
   "source": [
    "## 04_python Guess The NUmber Game"
   ]
  },
  {
   "cell_type": "code",
   "execution_count": 7,
   "metadata": {
    "scrolled": true
   },
   "outputs": [
    {
     "name": "stdout",
     "output_type": "stream",
     "text": [
      "Your guess please: 5\n",
      "Better Luck Next Time\n",
      "Close Enoughg\n",
      "The Lucky No. Was 4 But You GUessed 5\n",
      "5 Tries Left\n",
      "Your guess please: 5\n",
      "Better Luck Next Time\n",
      "Close Enoughg\n",
      "The Lucky No. Was 4 But You GUessed 5\n",
      "4 Tries Left\n",
      "Your guess please: 5\n",
      "Better Luck Next Time\n",
      "Close Enoughg\n",
      "The Lucky No. Was 4 But You GUessed 5\n",
      "3 Tries Left\n",
      "Your guess please: 5\n",
      "Better Luck Next Time\n",
      "Close Enoughg\n",
      "The Lucky No. Was 4 But You GUessed 5\n",
      "2 Tries Left\n",
      "Your guess please: 5\n",
      "Better Luck Next Time\n",
      "Close Enoughg\n",
      "The Lucky No. Was 4 But You GUessed 5\n",
      "1 Tries Left\n",
      "Your guess please: 5\n",
      "Better Luck Next Time\n",
      "Close Enoughg\n",
      "The Lucky No. Was 4 But You GUessed 5\n",
      "0 Tries Left\n",
      "Enter \"P\" for play again\n",
      "Thanks for playing\n"
     ]
    }
   ],
   "source": [
    "import random\n",
    "num =random.randrange(1,11)\n",
    "t=0\n",
    "while(t<6):\n",
    "    while(True):\n",
    "        n=input('Your guess please: ')\n",
    "        n=int(n)    \n",
    "        if n==num:\n",
    "            print('Congrats,You Win')\n",
    "            if abs(num-n)>=3:\n",
    "                print('Bad Guess')\n",
    "            else:\n",
    "                print('Close Enoughg')\n",
    "            continue    \n",
    "        elif n>10 or n<1:\n",
    "            print('Only 1-10 are valid guess')\n",
    "            break\n",
    "        else:\n",
    "            print('Better Luck Next Time')\n",
    "            if abs(num-n)>=3:\n",
    "                print('Bad Guess')\n",
    "            else:\n",
    "                print('Close Enoughg')\n",
    "            break    \n",
    "    print('The Lucky No. Was {0} But You GUessed {1}'.format(num,n))\n",
    "    t=t+1\n",
    "    print(6-t,'Tries Left')\n",
    "    \n",
    "    while(t == 6):\n",
    "        g = input('Enter \"P\" for play again')\n",
    "        if g=='P' or g=='p':\n",
    "            \n",
    "            t=0\n",
    "            continue        \n",
    "        else:\n",
    "            print('Thanks for playing')\n",
    "        break        "
   ]
  },
  {
   "cell_type": "markdown",
   "metadata": {},
   "source": [
    "## 04_python Rock Scissers and paper Game"
   ]
  },
  {
   "cell_type": "code",
   "execution_count": 7,
   "metadata": {
    "scrolled": true
   },
   "outputs": [
    {
     "name": "stdout",
     "output_type": "stream",
     "text": [
      "Welcome to SRP Game\n",
      "enter your choice: paper\n",
      "You Win !  😄\n",
      "enter p for play againp\n",
      "enter your choice: paper\n",
      "You Win !  😄\n",
      "enter p for play againrock\n",
      "Thanks for playing 😇\n"
     ]
    }
   ],
   "source": [
    "import random \n",
    "print('Welcome to SRP Game')\n",
    "choice = ['scissors', 'rock', 'paper']\n",
    "c_choice = random.choice(choice)\n",
    "u_choice = input('enter your choice: ')\n",
    "if u_choice in choice:\n",
    "    t=1\n",
    "    while(t==1):\n",
    "        if u_choice==c_choice:\n",
    "            print('You Win !  \\U0001F604')\n",
    "            \n",
    "        else:\n",
    "            print('Better Luck Next Time \\U0001F61B')\n",
    "        x = input('enter p for play again')  \n",
    "        if x=='p' or x=='P':\n",
    "            \n",
    "            u_choice = input('enter your choice: ')\n",
    "            if u_choice in choice:\n",
    "                t=1\n",
    "            else:\n",
    "                t=0\n",
    "                print('invalid input')\n",
    "                \n",
    "        else:\n",
    "            t=0\n",
    "            print('Thanks for playing \\U0001F607')\n",
    "else:\n",
    "    print('invalid input \\U0001F92E')"
   ]
  },
  {
   "cell_type": "markdown",
   "metadata": {},
   "source": [
    "## Shopping list problem"
   ]
  },
  {
   "cell_type": "code",
   "execution_count": 8,
   "metadata": {
    "scrolled": false
   },
   "outputs": [
    {
     "name": "stdout",
     "output_type": "stream",
     "text": [
      "enter Add to add item \n",
      "    DONE to finish\n",
      "    show to get list of items\n",
      "How may I help you :add\n",
      "what item you want to pick :super car \n",
      "How may I help you :add\n",
      "what item you want to pick :super car\n",
      "How may I help you :add\n",
      "what item you want to pick :luxury home\n",
      "How may I help you :show\n",
      "super car \n",
      "super car\n",
      "luxury home\n",
      "super car ,  super car,  luxury home\n",
      "How may I help you :done\n",
      "Thanks\n"
     ]
    }
   ],
   "source": [
    "shopping_list =[]\n",
    "print(\n",
    "    \"\"\"enter Add to add item \n",
    "    DONE to finish\n",
    "    show to get list of items\"\"\"\n",
    ")\n",
    "while(True):\n",
    "    choice = input('How may I help you :')\n",
    "    if choice=='add' or choice =='Add' or choice=='ADD':\n",
    "\n",
    "        item = input('what item you want to pick :')\n",
    "        shopping_list.append(item)\n",
    "\n",
    "    elif choice=='show' or choice=='Show' or choice=='SHOW':\n",
    "        for i in shopping_list:\n",
    "            print(''.join(i))\n",
    "        f = open('shopping_list.txt','r+')\n",
    "        f.write(',  '.join(shopping_list))\n",
    "        f= open('shopping_list.txt','r')\n",
    "        print(f.read())\n",
    "        \n",
    "    elif choice=='done' or choice=='Done' or choice=='DONE':\n",
    "        print('Thanks')\n",
    "        break\n",
    "    else:\n",
    "        print('invalid input ! Try again')\n",
    "#         break\n",
    "\n"
   ]
  },
  {
   "cell_type": "markdown",
   "metadata": {},
   "source": [
    "# 06_python code problems"
   ]
  },
  {
   "cell_type": "code",
   "execution_count": 21,
   "metadata": {},
   "outputs": [
    {
     "name": "stdout",
     "output_type": "stream",
     "text": [
      "enter the addressaq 12 sw 34\n",
      "aq 12 sw 34\n",
      "sum of numeric items is : 46\n",
      "do you want to edit your address\n",
      "                      enter Y for yes else N\n",
      "                   n\n",
      "thanks\n"
     ]
    },
    {
     "ename": "AttributeError",
     "evalue": "'list' object has no attribute 'isnumeric'",
     "output_type": "error",
     "traceback": [
      "\u001b[1;31m---------------------------------------------------------------------------\u001b[0m",
      "\u001b[1;31mAttributeError\u001b[0m                            Traceback (most recent call last)",
      "\u001b[1;32m<ipython-input-21-9a0677424842>\u001b[0m in \u001b[0;36m<module>\u001b[1;34m\u001b[0m\n\u001b[0;32m     23\u001b[0m \u001b[0malpha\u001b[0m\u001b[1;33m=\u001b[0m\u001b[1;33m[\u001b[0m\u001b[1;33m]\u001b[0m\u001b[1;33m\u001b[0m\u001b[1;33m\u001b[0m\u001b[0m\n\u001b[0;32m     24\u001b[0m \u001b[1;32mfor\u001b[0m \u001b[0mi\u001b[0m \u001b[1;32min\u001b[0m \u001b[1;33m[\u001b[0m\u001b[0mmyaddress\u001b[0m\u001b[1;33m.\u001b[0m\u001b[0msplit\u001b[0m\u001b[1;33m(\u001b[0m\u001b[1;33m)\u001b[0m\u001b[1;33m]\u001b[0m\u001b[1;33m:\u001b[0m\u001b[1;33m\u001b[0m\u001b[1;33m\u001b[0m\u001b[0m\n\u001b[1;32m---> 25\u001b[1;33m     \u001b[1;32mif\u001b[0m \u001b[0mi\u001b[0m\u001b[1;33m.\u001b[0m\u001b[0misnumeric\u001b[0m\u001b[1;33m(\u001b[0m\u001b[1;33m)\u001b[0m \u001b[1;33m:\u001b[0m\u001b[1;33m\u001b[0m\u001b[1;33m\u001b[0m\u001b[0m\n\u001b[0m\u001b[0;32m     26\u001b[0m         \u001b[0mprint\u001b[0m\u001b[1;33m(\u001b[0m\u001b[0mi\u001b[0m\u001b[1;33m)\u001b[0m\u001b[1;33m\u001b[0m\u001b[1;33m\u001b[0m\u001b[0m\n\u001b[0;32m     27\u001b[0m \u001b[1;31m#         num=num + i\u001b[0m\u001b[1;33m\u001b[0m\u001b[1;33m\u001b[0m\u001b[1;33m\u001b[0m\u001b[0m\n",
      "\u001b[1;31mAttributeError\u001b[0m: 'list' object has no attribute 'isnumeric'"
     ]
    }
   ],
   "source": [
    "myaddress = [input('enter the address')]\n",
    "myaddress = ''.join(myaddress)\n",
    "print(myaddress)\n",
    "address_sum=0\n",
    "for i in myaddress.split():\n",
    "    if i.isdigit():\n",
    "               \n",
    "        address_sum=address_sum+int(i)\n",
    "    else:\n",
    "        pass\n",
    "print('sum of numeric items is :',address_sum)\n",
    "change = input(\"\"\"do you want to edit your address\n",
    "                      enter Y for yes else N\n",
    "                   \"\"\" )\n",
    "if change=='Y' or change=='y':\n",
    "    x = input('what you want to change')\n",
    "    y = input('enter new key word')\n",
    "    myaddress=myaddress.replace(x,y)\n",
    "    print('Your new address is',myaddress)\n",
    "else:\n",
    "    print('thanks')                                                          \n"
   ]
  },
  {
   "cell_type": "markdown",
   "metadata": {},
   "source": [
    "## TO take infinite no from user"
   ]
  },
  {
   "cell_type": "code",
   "execution_count": 1,
   "metadata": {
    "scrolled": true
   },
   "outputs": [
    {
     "name": "stdout",
     "output_type": "stream",
     "text": [
      "\n",
      "         To exit enter non numeric value\n",
      "         \n",
      "enter the no.2\n",
      "enter the no.3\n",
      "enter the no.4\n",
      "enter the no.5\n",
      "enter the no.6\n",
      "enter the no.7\n",
      "enter the no.8\n",
      "enter the no.a\n",
      "numbers are : [2, 3, 4, 5, 6, 7, 8]\n",
      "max of num is : 8\n",
      "min of num is : 2\n",
      "mean of num is 5\n",
      "median of num is 5\n"
     ]
    }
   ],
   "source": [
    "import statistics\n",
    "print(\"\"\"\n",
    "         To exit enter non numeric value\n",
    "         \"\"\")\n",
    "num = []\n",
    "while(True):\n",
    "    n=input('enter the no.')\n",
    "    if n.isdigit():\n",
    "        num.append(int(n))\n",
    "        \n",
    "    else:\n",
    "        break\n",
    "print('numbers are :',num)\n",
    "print('max of num is :',max(num))\n",
    "print('min of num is :',min(num)) \n",
    "print('mean of num is',statistics.mean(num))\n",
    "print('median of num is',statistics.median(num))\n"
   ]
  },
  {
   "cell_type": "markdown",
   "metadata": {},
   "source": [
    "## to remove all accurance of an item from list"
   ]
  },
  {
   "cell_type": "code",
   "execution_count": 18,
   "metadata": {
    "scrolled": true
   },
   "outputs": [
    {
     "name": "stdout",
     "output_type": "stream",
     "text": [
      "enter elements2\n",
      "enter elements3\n",
      "enter elements4\n",
      "enter elements4\n",
      "enter elements4\n",
      "enter elements5\n",
      "enter elements4\n",
      "enter elements3\n",
      "enter elements2\n",
      "enter elements3\n",
      "enter elements3\n",
      "enter elements3\n",
      "enter elements3\n",
      "enter elements3\n",
      "enter elements3\n",
      "enter elements\n",
      "enter numeric value\n",
      "[2, 3, 4, 4, 4, 5, 4, 3, 2, 3, 3, 3, 3, 3, 3]\n",
      "No. u want to remove3\n",
      "[2, 4, 4, 4, 5, 4, 2]\n"
     ]
    }
   ],
   "source": [
    "num = []\n",
    "while(True):\n",
    "    n=input('enter elements')\n",
    "    if n.isdigit():\n",
    "        num.append(int(n))\n",
    "        \n",
    "    else:\n",
    "        print('enter numeric value')\n",
    "        break\n",
    "print(num)        \n",
    "m = input('No. u want to remove') \n",
    "\n",
    "while(int(m) in num):\n",
    "    num.remove(int(m))\n",
    "print(num)    "
   ]
  },
  {
   "cell_type": "code",
   "execution_count": 20,
   "metadata": {
    "scrolled": true
   },
   "outputs": [
    {
     "name": "stdout",
     "output_type": "stream",
     "text": [
      "1 2 3 4 5 6 7 8 9 0 1 "
     ]
    }
   ],
   "source": [
    "list=[1,2,3,4,5,6,7,8,9,0,1]\n",
    "for i in list:\n",
    "    print(i,end=' ')"
   ]
  },
  {
   "cell_type": "markdown",
   "metadata": {},
   "source": [
    "## To Change flags for  temperature > 273 k"
   ]
  },
  {
   "cell_type": "code",
   "execution_count": 24,
   "metadata": {
    "scrolled": true
   },
   "outputs": [
    {
     "name": "stdout",
     "output_type": "stream",
     "text": [
      "273.4 True\n",
      "265.5 False\n",
      "277.7 True\n",
      "285.5 True\n"
     ]
    }
   ],
   "source": [
    "T = [273.4, 265.5, 277.7, 285.5]\n",
    "Tflags = [False, False, False, False]\n",
    "for i in range(len(T)):\n",
    "    if T[i]>=273:\n",
    "        Tflags[i]='True'\n",
    "    else:\n",
    "        pass\n",
    "for i in range(len(T)):\n",
    "    print(T[i],end=' ')    \n",
    "    print(Tflags[i])    \n",
    "\n",
    "    "
   ]
  },
  {
   "cell_type": "markdown",
   "metadata": {},
   "source": [
    "## To remove $, ',' etc from salary"
   ]
  },
  {
   "cell_type": "code",
   "execution_count": 33,
   "metadata": {
    "scrolled": false
   },
   "outputs": [
    {
     "name": "stdout",
     "output_type": "stream",
     "text": [
      "876001\n",
      "543903\n",
      "2453896\n",
      "['$876,001', '$543,903', '$2453,896']\n"
     ]
    }
   ],
   "source": [
    "salaries = ['$876,001', '$543,903', '$2453,896'] \n",
    "for i in salaries:\n",
    "    x= i.replace('$','').replace(',','')\n",
    "    print(x)\n",
    "print(salaries)    "
   ]
  },
  {
   "cell_type": "markdown",
   "metadata": {},
   "source": [
    "## Fibonnaci series"
   ]
  },
  {
   "cell_type": "code",
   "execution_count": 21,
   "metadata": {},
   "outputs": [
    {
     "name": "stdout",
     "output_type": "stream",
     "text": [
      "enter no. of terms for fibinnaci seriesa\n",
      "invalid input\n"
     ]
    }
   ],
   "source": [
    "n = input('enter no. of terms for fibinnaci series')\n",
    "\n",
    "a=0\n",
    "b=1\n",
    "if n.isnumeric():\n",
    "    for i in range(int(n)):\n",
    "        if i==0:\n",
    "            print(a)\n",
    "        elif i==1:\n",
    "            print(b)\n",
    "        elif i>1:\n",
    "            c= a+b\n",
    "            print(c)\n",
    "            b,a=c,b\n",
    "        else:\n",
    "            print('wrong input')\n",
    "else:\n",
    "    print('invalid input')"
   ]
  },
  {
   "cell_type": "markdown",
   "metadata": {},
   "source": [
    "## counting no. of count of string according to condition"
   ]
  },
  {
   "cell_type": "code",
   "execution_count": 41,
   "metadata": {},
   "outputs": [
    {
     "name": "stdout",
     "output_type": "stream",
     "text": [
      "['aba', 'xyz', 'aa', 'x', 'bbb', '', 'x', 'xy', 'xyx', 'xx', 'aaa', 'be', 'abc', 'hello']\n",
      "aba\n",
      "aa\n",
      "bbb\n",
      "xyx\n",
      "xx\n",
      "aaa\n"
     ]
    }
   ],
   "source": [
    "words1 = ['aba', 'xyz', 'aa', 'x', 'bbb']\n",
    "words2 = ['', 'x', 'xy', 'xyx', 'xx']\n",
    "words3 = ['aaa', 'be', 'abc', 'hello']\n",
    "words1.extend(words2)\n",
    "words1.extend(words3)\n",
    "print(words1)\n",
    "for i in words1:\n",
    "    if len(i)>=2 and i[0]==i[-1]:\n",
    "        print(i)\n",
    "    else:\n",
    "        pass"
   ]
  },
  {
   "cell_type": "markdown",
   "metadata": {},
   "source": [
    "## list sorting"
   ]
  },
  {
   "cell_type": "code",
   "execution_count": 54,
   "metadata": {
    "scrolled": true
   },
   "outputs": [
    {
     "name": "stdout",
     "output_type": "stream",
     "text": [
      "['xaa', 'xaa', 'xanadu', 'xcc', 'xyz', 'xzz', 'aaa', 'aardvark', 'apple', 'axx', 'bbb', 'bbb', 'ccc', 'ccc', 'mix']\n"
     ]
    }
   ],
   "source": [
    "words1 =['bbb', 'ccc', 'axx', 'xzz', 'xaa']\n",
    "words2 =['ccc', 'bbb', 'aaa', 'xcc', 'xaa']\n",
    "words3 =['mix', 'xyz', 'apple', 'xanadu', 'aardvark']\n",
    "words1.extend(words2)\n",
    "words1.extend(words3)\n",
    "XX=[]\n",
    "YY=[]\n",
    "for i in words1:\n",
    "    if i[0]=='x' or i[0]=='X':\n",
    "        XX.append(i)\n",
    "    else:\n",
    "        YY.append(i)\n",
    "XX.sort()\n",
    "YY.sort()\n",
    "XX.extend(YY)\n",
    "print(XX)       "
   ]
  },
  {
   "cell_type": "markdown",
   "metadata": {},
   "source": [
    "## removing same adjacent items in list\n"
   ]
  },
  {
   "cell_type": "code",
   "execution_count": 80,
   "metadata": {},
   "outputs": [
    {
     "name": "stdout",
     "output_type": "stream",
     "text": [
      "[1, 2, 3]\n"
     ]
    }
   ],
   "source": [
    "list = [1, 2, 2, 3, 3]\n",
    "for i in range(len(list)-2):\n",
    "    if list[i]==list[i+1]:\n",
    "        list.remove(list[i])\n",
    "        i=i+1\n",
    "       \n",
    "    else:\n",
    "        i=i+1\n",
    "        \n",
    "print(list)        \n",
    "    "
   ]
  },
  {
   "cell_type": "markdown",
   "metadata": {},
   "source": [
    "## to sort list extend of two sorted list"
   ]
  },
  {
   "cell_type": "code",
   "execution_count": 81,
   "metadata": {},
   "outputs": [
    {
     "name": "stdout",
     "output_type": "stream",
     "text": [
      "['aa', 'aa', 'aa', 'aa', 'aa', 'bb', 'bb', 'bb', 'bb', 'cc', 'cc', 'xx', 'xx', 'zz', 'zz']\n"
     ]
    }
   ],
   "source": [
    "list1 = ['aa', 'xx', 'zz', 'aa', 'xx', 'aa', 'aa']\n",
    "list2 = ['bb', 'cc', 'bb', 'cc', 'zz', 'aa', 'bb', 'bb']\n",
    "list1.sort()\n",
    "list2.sort()\n",
    "list1.extend(list2)\n",
    "list1.sort()\n",
    "print(list1)\n",
    "\n"
   ]
  },
  {
   "cell_type": "code",
   "execution_count": 155,
   "metadata": {},
   "outputs": [
    {
     "name": "stdout",
     "output_type": "stream",
     "text": [
      "[165, 136, 236, 198, 188, 137, 73, 50, 102, 8]\n",
      "[165, 136, 236, 198, 188, 137, 73, 50, 102, 8]\n",
      "[165, 136, 236, 198, 188, 137, 73, 50, 102, 8]\n",
      "[165, 136, 236, 198, 188, 137, 73, 50, 102, 8]\n",
      "[165, 136, 236, 198, 188, 137, 73, 50, 102, 8]\n",
      "[165, 136, 236, 198, 188, 137, 73, 50, 102, 8]\n",
      "[165, 136, 236, 198, 188, 137, 73, 50, 102, 8]\n",
      "[165, 136, 236, 198, 188, 137, 73, 50, 102, 8]\n",
      "[165, 136, 236, 198, 188, 137, 73, 50, 102, 8]\n",
      "[165, 136, 236, 198, 188, 137, 73, 50, 102, 8]\n"
     ]
    }
   ],
   "source": [
    "import random\n",
    "list1=[]\n",
    "list2=[]\n",
    "for i in range(10):                                        # random no. are not ge\n",
    "    list1.clear()\n",
    "    for i in range(10):\n",
    "        list1.append(random.randrange(0,255))   \n",
    "    list2.append(list1)\n",
    "for i in list2:\n",
    "    print(i)        \n",
    "\n",
    "\n",
    "   "
   ]
  },
  {
   "cell_type": "code",
   "execution_count": 16,
   "metadata": {},
   "outputs": [
    {
     "name": "stdout",
     "output_type": "stream",
     "text": [
      "[130, 1, 8, 84, 80, 81, 136, 28, 123, 189]\n",
      "[61, 55, 57, 198, 226, 194, 249, 48, 90, 249]\n",
      "[50, 29, 103, 36, 235, 230, 143, 1, 231, 184]\n",
      "[101, 179, 2, 180, 174, 237, 147, 192, 9, 53]\n",
      "[15, 118, 179, 239, 169, 128, 125, 50, 234, 156]\n",
      "[4, 131, 44, 29, 138, 10, 54, 80, 236, 104]\n",
      "[108, 69, 61, 12, 233, 80, 244, 122, 96, 106]\n",
      "[36, 149, 233, 17, 252, 143, 196, 61, 9, 182]\n",
      "[223, 244, 103, 108, 225, 249, 126, 60, 224, 229]\n",
      "[70, 129, 47, 239, 50, 53, 236, 75, 193, 120]\n"
     ]
    }
   ],
   "source": [
    "import random\n",
    "list2=[]\n",
    "for i in range(10):                                       \n",
    "    list1 = []\n",
    "    for i in range(10):\n",
    "        list1.append(random.randrange(0,255)) \n",
    "    list2.append(list1)\n",
    "for i in list2:\n",
    "     print(i)        \n",
    "\n",
    "\n"
   ]
  },
  {
   "cell_type": "code",
   "execution_count": 31,
   "metadata": {},
   "outputs": [
    {
     "name": "stdout",
     "output_type": "stream",
     "text": [
      "\n",
      "            ✱\n",
      "            ✱✱\n",
      "            ✱✱✱\n",
      "            ✱✱✱✱\n",
      "            ✱✱✱✱✱\n",
      "            ✱✱✱✱\n",
      "            ✱✱✱\n",
      "            ✱✱\n",
      "            ✱\n",
      "    \n",
      "no of max Star for similar pattern to above :5\n",
      "\n",
      "✱\n",
      "✱✱\n",
      "✱✱✱\n",
      "✱✱✱✱\n",
      "✱✱✱✱✱\n",
      "✱✱✱✱\n",
      "✱✱✱\n",
      "✱✱\n",
      "✱\n"
     ]
    }
   ],
   "source": [
    "print(\"\"\"\n",
    "            ✱\n",
    "            ✱✱\n",
    "            ✱✱✱\n",
    "            ✱✱✱✱\n",
    "            ✱✱✱✱✱\n",
    "            ✱✱✱✱\n",
    "            ✱✱✱\n",
    "            ✱✱\n",
    "            ✱\n",
    "    \"\"\")\n",
    "n=input('no of max Star for similar pattern to above :')\n",
    "for i in range(int(n)+1):\n",
    "    print('\\u2731'*i)\n",
    "for i in range(int(n)-1,0,-1):\n",
    "    print('\\u2731'*i)\n",
    "    "
   ]
  },
  {
   "cell_type": "markdown",
   "metadata": {},
   "source": [
    "## Treaser Hunt Game"
   ]
  },
  {
   "cell_type": "code",
   "execution_count": 24,
   "metadata": {},
   "outputs": [
    {
     "name": "stdout",
     "output_type": "stream",
     "text": [
      "enetr index for cell having treasure in 10X10 list:3,3\n",
      "WARM ! Attempt Attempt\n",
      "better luck next time\n",
      "[2, 5, 4, 2, 4, 6, 9, 7, 5, 9]\n",
      "[6, 6, 3, 2, 5, 2, 8, 9, 6, 7]\n",
      "[10, 1, 6, 0, 5, 0, 1, 0, 2, 8]\n",
      "[5, 8, 7, 6, 0, 0, 1, 2, 1, 0]\n",
      "[4, 8, 2, 8, 5, 1, 2, 0, 6, 6]\n",
      "[7, 9, 0, 2, 10, 4, 1, 7, 0, 1]\n",
      "[6, 3, 3, 0, 2, 8, 6, 10, 1, 2]\n",
      "[5, 3, 7, 1, 0, 7, 1, 0, 5, 4]\n",
      "[6, 7, 7, 6, 3, 8, 7, 3, 4, 4]\n",
      "[5, 2, 4, 6, 4, 0, 1, 4, 9, 0]\n"
     ]
    }
   ],
   "source": [
    "import random\n",
    "import re\n",
    "list1=[]\n",
    "list2=[]\n",
    "for i in range(10):                                        \n",
    "    list1=[]\n",
    "    for i in range(10):\n",
    "        list1.append(random.randrange(0,11))   \n",
    "    list2.append(list1)\n",
    "x , y =input('enetr index for cell having treasure in 10X10 list:').split(',')\n",
    "if list2[int(x)][int(y)]==1:\n",
    "    print('you win !')\n",
    "elif (list2[int(x)][int(y)]) !=1:\n",
    "    if (list2[int(x)][int(y)])< 2 :\n",
    "            print('HOT ! Attempt')\n",
    "    elif (list2[int(x)][int(y)]) > 2 and (list2[int(x)][int(y)])< 7 :\n",
    "            print('WARM ! Attempt Attempt')        \n",
    "    else:\n",
    "        print('COLD ! Attempt')\n",
    "    print('better luck next time')         \n",
    "for i in list2:\n",
    "    print(i)        \n",
    "\n",
    "             "
   ]
  },
  {
   "cell_type": "markdown",
   "metadata": {},
   "source": [
    "## Code Breaker,  pridiction 4 digit no. game"
   ]
  },
  {
   "cell_type": "code",
   "execution_count": 11,
   "metadata": {},
   "outputs": [
    {
     "name": "stdout",
     "output_type": "stream",
     "text": [
      "9667\n",
      "enter your guess :1234\n",
      "better luck next time\n",
      "you guessed right only 0 digit\n",
      "Only 11 Trail is left\n",
      "9387\n",
      "enter your guess :1234\n",
      "better luck next time\n",
      "you guessed right only 0 digit\n",
      "Only 10 Trail is left\n",
      "3410\n",
      "enter your guess :1234\n",
      "better luck next time\n",
      "you guessed right only 0 digit\n",
      "Only 9 Trail is left\n",
      "6652\n",
      "enter your guess :1234\n",
      "better luck next time\n",
      "you guessed right only 0 digit\n",
      "Only 8 Trail is left\n",
      "3425\n",
      "enter your guess :1234\n",
      "better luck next time\n",
      "you guessed right only 0 digit\n",
      "Only 7 Trail is left\n",
      "9157\n",
      "enter your guess :1234\n",
      "better luck next time\n",
      "you guessed right only 0 digit\n",
      "Only 6 Trail is left\n",
      "9555\n",
      "enter your guess :1234\n",
      "better luck next time\n",
      "you guessed right only 0 digit\n",
      "Only 5 Trail is left\n",
      "2778\n",
      "enter your guess :1234\n",
      "better luck next time\n",
      "you guessed right only 0 digit\n",
      "Only 4 Trail is left\n",
      "8430\n",
      "enter your guess :1234\n",
      "better luck next time\n",
      "you guessed right only 1 digit\n",
      "Only 3 Trail is left\n",
      "7571\n",
      "enter your guess :1234\n",
      "better luck next time\n",
      "you guessed right only 0 digit\n",
      "Only 2 Trail is left\n",
      "1365\n",
      "enter your guess :1234\n",
      "better luck next time\n",
      "you guessed right only 1 digit\n",
      "Only 1 Trail is left\n",
      "2760\n",
      "enter your guess :1234\n",
      "better luck next time\n",
      "you guessed right only 0 digit\n",
      "Only 0 Trail is left\n"
     ]
    }
   ],
   "source": [
    "import random\n",
    "c=0\n",
    "while(c<12):\n",
    "    cn = str(random.randrange(1000, 9999))\n",
    "    print(cn)\n",
    "    un=input('enter your guess :')\n",
    "    if int(cn)==int(un):\n",
    "        print('you win !')\n",
    "        c=c+1\n",
    "    else:\n",
    "        c=c+1    \n",
    "        print('better luck next time')\n",
    "        t=0 \n",
    "        for i  in range(len(un)):\n",
    "            if un[i]==cn[i]:\n",
    "                t=t + 1\n",
    "            else:\n",
    "                pass\n",
    "        print('you guessed right only',t,'digit')    \n",
    "    print('Only {} Trail is left'.format(12-c))"
   ]
  },
  {
   "cell_type": "markdown",
   "metadata": {},
   "source": [
    "## To Remove all vovels in item of list"
   ]
  },
  {
   "cell_type": "code",
   "execution_count": 56,
   "metadata": {},
   "outputs": [
    {
     "name": "stdout",
     "output_type": "stream",
     "text": [
      "['lbm'] ['Clfrn'] ['klhm'] ['Flrd'] "
     ]
    }
   ],
   "source": [
    "state_name = [ 'Alabama', 'California', 'Oklahoma', 'Florida']\n",
    "for i in state_name:\n",
    "    for j in i:        \n",
    "        if j in ['a', 'e', 'i', 'o', 'u', 'A', 'E', 'I', 'O', 'U']:\n",
    "            i = i.replace(j,'')\n",
    "    print([i],end=' ')    "
   ]
  },
  {
   "cell_type": "markdown",
   "metadata": {},
   "source": [
    "## To check polondromic number"
   ]
  },
  {
   "cell_type": "code",
   "execution_count": 10,
   "metadata": {},
   "outputs": [
    {
     "name": "stdout",
     "output_type": "stream",
     "text": [
      "enter no to check polindromic jahaj\n",
      "polindrome\n"
     ]
    }
   ],
   "source": [
    "n = input('enter no to check polindromic ')\n",
    "if n==n[::-1]:\n",
    "    print('polindrome')\n",
    "else:\n",
    "    print('not a polindrome')"
   ]
  },
  {
   "cell_type": "markdown",
   "metadata": {},
   "source": [
    "## To get mean after removing min and max value"
   ]
  },
  {
   "cell_type": "code",
   "execution_count": 3,
   "metadata": {
    "scrolled": true
   },
   "outputs": [
    {
     "name": "stdout",
     "output_type": "stream",
     "text": [
      "enter item of the list1\n",
      "enter item of the list2\n",
      "enter item of the list3\n",
      "enter item of the list4\n",
      "enter item of the list5\n",
      "enter item of the list6\n",
      "enter item of the list\n",
      "Your list is : [1, 2, 3, 4, 5, 6]\n",
      "After excluding MIN and MAX values : [2, 3, 4, 5]\n",
      "NOw MEAN is : 3.5\n"
     ]
    }
   ],
   "source": [
    "import statistics\n",
    "list_int=[]\n",
    "while(True):\n",
    "    n=input('enter item of the list')\n",
    "    if n.isnumeric():\n",
    "        list_int.append(int(n))\n",
    "    else:\n",
    "        break\n",
    "print('Your list is :',list_int)\n",
    "list_int.remove(min(list_int))\n",
    "list_int.remove(max(list_int))\n",
    "print('After excluding MIN and MAX values :',list_int)\n",
    "print('NOw MEAN is :',statistics.mean(list_int))\n",
    "\n",
    "\n"
   ]
  },
  {
   "cell_type": "markdown",
   "metadata": {},
   "source": [
    "## remove the no. 13 and no. leading by 13"
   ]
  },
  {
   "cell_type": "code",
   "execution_count": 12,
   "metadata": {
    "scrolled": true
   },
   "outputs": [
    {
     "name": "stdout",
     "output_type": "stream",
     "text": [
      "enter value1\n",
      "enter value13\n",
      "enter value21\n",
      "enter value13\n",
      "enter value22\n",
      "enter value13\n",
      "enter value23\n",
      "enter value22\n",
      "enter value\n",
      "1\n",
      "['1', '13', '21', '13', '22', '13', '23', '22'] [2, 4, 6]\n",
      "['1', '13', '13', '13', '22']\n",
      "['1', '22']\n"
     ]
    }
   ],
   "source": [
    "list1=[]\n",
    "l_remove=[]\n",
    "while(True):\n",
    "    n=input('enter value')\n",
    "    if n.isnumeric():\n",
    "        list1.append(n)\n",
    "    else:\n",
    "        break\n",
    "print(list1[0])\n",
    "for i in range(len(list1)):\n",
    "    if list1[i]=='13':\n",
    "        l_remove.append(i+1)\n",
    "    else:\n",
    "        pass\n",
    "print(list1,l_remove)  \n",
    "for i in l_remove[::-1]:\n",
    "    list1.remove(list1[int(i)])\n",
    "print(list1)\n",
    "while('13' in list1):\n",
    "    list1.remove('13')\n",
    "print(list1)    "
   ]
  },
  {
   "cell_type": "markdown",
   "metadata": {},
   "source": [
    "## Game to Not Get 0 "
   ]
  },
  {
   "cell_type": "code",
   "execution_count": 11,
   "metadata": {},
   "outputs": [
    {
     "name": "stdout",
     "output_type": "stream",
     "text": [
      "\n",
      "         reduce the no. by 1, 2 or 3  give 0 you will win\n",
      "       \n",
      "you get : 25\n",
      "your no.2\n",
      "you get : 20\n",
      "your no.12\n",
      "invalid input\n",
      "you get : 17\n",
      "your no.12\n",
      "invalid input\n",
      "you get : 15\n",
      "your no.12\n",
      "invalid input\n",
      "you get : 15\n",
      "your no.12\n",
      "invalid input\n",
      "you get : 12\n",
      "your no.12\n",
      "invalid input\n",
      "you get : 9\n",
      "your no.12\n",
      "invalid input\n",
      "you get : 9\n",
      "your no.2\n",
      "you get : 5\n",
      "your no.12\n",
      "invalid input\n",
      "you get : 4\n",
      "your no.2\n",
      "Better Luck Next Time\n",
      "you get : 0\n",
      "your no.1\n",
      "Better Luck Next Time\n"
     ]
    }
   ],
   "source": [
    "import random\n",
    "print('''\n",
    "         reduce the no. by 1, 2 or 3  give 0 you will win\n",
    "       ''')\n",
    "no =random.randrange(20,31)\n",
    "while(no>1):\n",
    "    cc =random.randrange(0,4)\n",
    "    no=no-cc\n",
    "    print('you get :',no)\n",
    "    uc =int(input('your no.')) \n",
    "    if uc <4 and uc >0:           \n",
    "        no=no-uc\n",
    "    else:\n",
    "        print('invalid input')\n",
    "    #print('computer gets',no)\n",
    "    if no==0:\n",
    "        print('You wins')\n",
    "    else:\n",
    "        if no <3:\n",
    "            print('Better Luck Next Time')\n",
    "        else:\n",
    "            pass"
   ]
  },
  {
   "cell_type": "code",
   "execution_count": 5,
   "metadata": {},
   "outputs": [
    {
     "name": "stdout",
     "output_type": "stream",
     "text": [
      "Enetr H for Heighr or L for lower for 13 :l\n",
      "right guess\n",
      "no. were 13 and 7\n",
      "Enetr H for Heighr or L for lower for 12 :l\n",
      "right guess\n",
      "no. were 12 and 1\n",
      "Enetr H for Heighr or L for lower for 6 :l\n",
      "right guess\n",
      "no. were 6 and 3\n",
      "Enetr H for Heighr or L for lower for 4 :h\n",
      "right guess\n",
      "no. were 4 and 11\n",
      "Enetr H for Heighr or L for lower for 7 :h\n",
      "right guess\n",
      "no. were 7 and 8\n",
      "Enetr H for Heighr or L for lower for 5 :l\n",
      "right guess\n",
      "no. were 5 and 5\n",
      "Enetr H for Heighr or L for lower for 5 :l\n",
      "right guess\n",
      "no. were 5 and 3\n",
      "Enetr H for Heighr or L for lower for 3 :h\n",
      "right guess\n",
      "no. were 3 and 7\n",
      "Enetr H for Heighr or L for lower for 6 :h\n",
      "right guess\n",
      "no. were 6 and 12\n",
      "Enetr H for Heighr or L for lower for 6 :h\n",
      "right guess\n",
      "no. were 6 and 10\n",
      "You Win !! with 10/10 :\n"
     ]
    }
   ],
   "source": [
    "import random \n",
    "n_list = [1, 2, 3, 4, 5, 6, 7, 8, 9, 10, 11, 12, 13]\n",
    "c=0\n",
    "score=0\n",
    "while(c<10):\n",
    "    c=c+1\n",
    "    t1=random.choice(n_list)\n",
    "    g = input('Enetr H for Heighr or L for lower for {} :'.format(t1))\n",
    "    t2=random.choice(n_list)\n",
    "    if g=='H' or g=='h':\n",
    "        if t1<=t2:\n",
    "            print('right guess')\n",
    "            print('no. were {} and {}'.format(t1,t2))\n",
    "            score=score+1\n",
    "        else:\n",
    "            print('wronge guess')\n",
    "            print('no. were {} and {}'.format(t1,t2))\n",
    "            \n",
    "    elif g=='l' or g=='L':\n",
    "        if t1>=t2:\n",
    "            print('right guess')\n",
    "            print('no. were {} and {}'.format(t1,t2))\n",
    "            score=score+1\n",
    "        else:\n",
    "            print('wronge guess')\n",
    "            print('no. were {} and {}'.format(t1,t2))\n",
    "    else:\n",
    "        print('invalid input')\n",
    "        \n",
    "if score>=10:\n",
    "    print('You Win !! with {}/10 :'.format(score))\n",
    "else:\n",
    "    print('better luck next time')\n",
    "    print('Your Score is {}/10'.format(score))\n",
    "    "
   ]
  },
  {
   "cell_type": "markdown",
   "metadata": {},
   "source": [
    "## To print no of days for perticular month"
   ]
  },
  {
   "cell_type": "code",
   "execution_count": 12,
   "metadata": {},
   "outputs": [
    {
     "name": "stdout",
     "output_type": "stream",
     "text": [
      "enter fonth name in lower to get no of daysmay\n",
      "Days in may are 31 :\n"
     ]
    }
   ],
   "source": [
    "month={\n",
    "    'january':'31',  \n",
    "    'february':'29 /28',\n",
    "    'march':'31',\n",
    "    'april':30,\n",
    "    'may':31,\n",
    "    'june':30,\n",
    "    'july':31,\n",
    "    'august':31,\n",
    "    'september':30,\n",
    "    'october':31,\n",
    "    'november':30,\n",
    "    'december':31\n",
    "    \n",
    "}\n",
    "n=input('enter fonth name in lower to get no of days')\n",
    "print('Days in {} are {} :'.format(n,month[n]))\n"
   ]
  },
  {
   "cell_type": "markdown",
   "metadata": {},
   "source": [
    "## To chech pangram string"
   ]
  },
  {
   "cell_type": "code",
   "execution_count": 3,
   "metadata": {},
   "outputs": [
    {
     "name": "stdout",
     "output_type": "stream",
     "text": [
      "enter your stringPack my box with five dozen liquor jug\n",
      "not a pangram\n"
     ]
    }
   ],
   "source": [
    "n =input('enter your string')\n",
    "list1='abcdifghijklmnopqrstuvwxyz'\n",
    "t=0\n",
    "for i in list1:\n",
    "    if i not in (n.replace(' ','')).lower():\n",
    "        t=1\n",
    "        break\n",
    "    else:\n",
    "        pass\n",
    "if t==1:\n",
    "    print('not a pangram')\n",
    "else:\n",
    "    print('pangram')"
   ]
  },
  {
   "cell_type": "markdown",
   "metadata": {},
   "source": [
    "## to check if target can be made by given small and big bricks"
   ]
  },
  {
   "cell_type": "code",
   "execution_count": 46,
   "metadata": {},
   "outputs": [
    {
     "name": "stdout",
     "output_type": "stream",
     "text": [
      "\n",
      "         small brick is 1 inch long \n",
      "         big brick is 5 inch long\n",
      "      \n",
      "enter small bircks, big brick and target lenght separated by \",\" :5,6,37\n",
      "False ! sortage of bricks\n"
     ]
    }
   ],
   "source": [
    "import re\n",
    "print('''\n",
    "         small brick is 1 inch long \n",
    "         big brick is 5 inch long\n",
    "      ''')\n",
    "x,y,z=input('enter small bircks, big brick and target lenght separated by \",\" :').split(',')\n",
    "if (int(x)+int(y)*5)>=int(z):\n",
    "    print('True ! target can be made')\n",
    "else:\n",
    "    print('False ! sortage of bricks')\n"
   ]
  },
  {
   "cell_type": "markdown",
   "metadata": {},
   "source": [
    "## Make fucntion to reverse a string"
   ]
  },
  {
   "cell_type": "code",
   "execution_count": 49,
   "metadata": {},
   "outputs": [
    {
     "name": "stdout",
     "output_type": "stream",
     "text": [
      "your string pleaseyogi baba\n",
      "Your string is : yogi baba\n",
      "reverse of your string is : abab igoy\n"
     ]
    }
   ],
   "source": [
    "stringg = input('your string please')\n",
    "print('Your string is :',stringg)\n",
    "def reverse(str):\n",
    "    return str[::-1]\n",
    "print('reverse of your string is :',reverse(stringg))"
   ]
  },
  {
   "cell_type": "markdown",
   "metadata": {},
   "source": [
    "## To double the accurance of consonant having 'O' in between"
   ]
  },
  {
   "cell_type": "code",
   "execution_count": 56,
   "metadata": {},
   "outputs": [
    {
     "name": "stdout",
     "output_type": "stream",
     "text": [
      "inter the stringYogi Baba\n",
      "YoYogogi BoBaboba\n"
     ]
    }
   ],
   "source": [
    "s = input('inter the string')\n",
    "consonant='bBcCdDfFgGhHjJkKlLmMnNpPqQrRsStTvVwWxXyYzZ'\n",
    "for i in s:\n",
    "    if i in consonant:\n",
    "        s = s.replace(i,i+'o'+i)\n",
    "print(s)        "
   ]
  },
  {
   "cell_type": "markdown",
   "metadata": {},
   "source": [
    "## To write function for sum, max, min, avg, sort and remone_duplicate"
   ]
  },
  {
   "cell_type": "code",
   "execution_count": 10,
   "metadata": {},
   "outputs": [
    {
     "name": "stdout",
     "output_type": "stream",
     "text": [
      "sum of list : 49\n",
      "Max of the list : 10\n",
      "min of list : 2\n",
      "multiplication of list items is : 1360800\n",
      "[2, 3, 4, 5, 6, 3, 7, 9, 10]\n",
      "After duplicates removed : [2, 5, 6, 3, 7, 9, 10]\n",
      "sorted list : [2, 3, 5, 6, 7, 9, 10]\n"
     ]
    }
   ],
   "source": [
    "list1 = [10,2,4,3,5,6,7,3,9]\n",
    "                                                         #     for sum()\n",
    "def sum(lst):\n",
    "    s=0\n",
    "    for i in lst:\n",
    "        s=s+i\n",
    "    return s\n",
    "print('sum of list :',sum(list1))    \n",
    "def max(lst): \n",
    "    a=0                                                  # for max()\n",
    "    for i in range(len(lst)-1):\n",
    "        if lst[i]>lst[i+1]:\n",
    "            a=lst[i+1]\n",
    "            lst[i+1]=lst[i]\n",
    "            lst[i]=a\n",
    "        else:\n",
    "            pass\n",
    "    return lst[-1]        \n",
    "            \n",
    "print('Max of the list :',max(list1))            \n",
    "                                                         # for min()           \n",
    "def min(lst): \n",
    "    a=0                                                 \n",
    "    for i in range(len(lst)-1):\n",
    "        if lst[i]>lst[i+1]:\n",
    "            a=lst[i+1]\n",
    "            lst[i+1]=lst[i]\n",
    "            lst[i]=a\n",
    "        else:\n",
    "            pass\n",
    "    return lst[0] \n",
    "print('min of list :',min(list1))\n",
    "                                                         # for multiply()\n",
    "def multiply(lst):\n",
    "    s=1\n",
    "    for i in lst:\n",
    "        s=s*i\n",
    "    return s\n",
    "print('multiplication of list items is :',multiply(list1)) \n",
    "\n",
    "                                                         #  for sort() \n",
    "def sort(lst): \n",
    "    a=0                                                  # for max()\n",
    "    for i in range(len(lst)):\n",
    "        for i in range(len(lst)-1):\n",
    "            if lst[i]>lst[i+1]:\n",
    "                a=lst[i+1]\n",
    "                lst[i+1]=lst[i]\n",
    "                lst[i]=a\n",
    "            else:\n",
    "                pass\n",
    "    return lst\n",
    "\n",
    "def remove_dup(lst):\n",
    "    index=[]\n",
    "    for i in range(len(lst)):\n",
    "        for j in range(len(lst)):\n",
    "            if i==j and lst[i]==lst[j]:\n",
    "                pass\n",
    "            elif i!=j and lst[i]==lst[j]:\n",
    "                #lst.remove(lst[i])\n",
    "                index.append(i)\n",
    "            else:\n",
    "                pass\n",
    "    for k in index[::-1]:\n",
    "        lst.remove(lst[k])\n",
    "    return lst \n",
    "print(list1)\n",
    "print('After duplicates removed :',remove_dup(list1))\n",
    "print('sorted list :',sort(list1))\n"
   ]
  },
  {
   "cell_type": "markdown",
   "metadata": {},
   "source": [
    "## To check anagram string"
   ]
  },
  {
   "cell_type": "code",
   "execution_count": 34,
   "metadata": {
    "scrolled": false
   },
   "outputs": [
    {
     "name": "stdout",
     "output_type": "stream",
     "text": [
      "enter string to check angram separated by \",\"  :rupa,paru\n",
      "anagram\n"
     ]
    }
   ],
   "source": [
    "x,y=input('enter string to check angram separated by \",\"  :').replace(' ','').split(',')\n",
    "if len(x)==len(y):\n",
    "    t=0\n",
    "    for i in x:\n",
    "        if i not in y:\n",
    "            print('not anagram')                             # set functions in python ??????\n",
    "            break\n",
    "        else:\n",
    "            t=t+1\n",
    "    if t==len(x):        \n",
    "        print('anagram')\n",
    "    else:\n",
    "        pass\n",
    "else:\n",
    "    print('not anagram')"
   ]
  },
  {
   "cell_type": "markdown",
   "metadata": {},
   "source": [
    "## To Pick Cards from Pack of Card"
   ]
  },
  {
   "cell_type": "code",
   "execution_count": 19,
   "metadata": {},
   "outputs": [
    {
     "name": "stdout",
     "output_type": "stream",
     "text": [
      "♣10\n",
      "♥9\n",
      "♣A\n",
      "♣J\n",
      "♦6\n",
      "card ♦6 has been choosen\n",
      "♠6\n",
      "♠4\n",
      "card ♣J has been choosen\n",
      "♦10\n",
      "♦3\n",
      "♦8\n",
      "card ♥9 has been choosen\n",
      "♣7\n",
      "♣K\n",
      "♥K\n",
      "♣3\n",
      "card ♦6 has been choosen\n",
      "♥J\n",
      "♥10\n",
      "♣8\n",
      "♠Q\n",
      "♠5\n",
      "card ♦3 has been choosen\n",
      "♦Q\n",
      "card ♦3 has been choosen\n",
      "♥6\n",
      "♠10\n",
      "card ♣10 has been choosen\n",
      "♠7\n",
      "♦9\n",
      "card ♥10 has been choosen\n",
      "♠2\n",
      "card ♣A has been choosen\n",
      "card ♥9 has been choosen\n",
      "card ♠4 has been choosen\n",
      "♦4\n",
      "♦J\n",
      "card ♣A has been choosen\n",
      "card ♥9 has been choosen\n",
      "♠J\n",
      "card ♠6 has been choosen\n",
      "♠8\n",
      "card ♥K has been choosen\n",
      "card ♥6 has been choosen\n",
      "card ♣K has been choosen\n",
      "card ♥9 has been choosen\n",
      "♠A\n",
      "card ♣K has been choosen\n",
      "card ♥6 has been choosen\n",
      "card ♠8 has been choosen\n",
      "card ♠6 has been choosen\n",
      "♥Q\n",
      "card ♠J has been choosen\n",
      "♦2\n",
      "card ♦4 has been choosen\n",
      "card ♣8 has been choosen\n",
      "card ♠5 has been choosen\n",
      "card ♠8 has been choosen\n",
      "♥4\n",
      "card ♣K has been choosen\n",
      "card ♦2 has been choosen\n",
      "♥A\n",
      "card ♠2 has been choosen\n",
      "♦5\n",
      "♥3\n",
      "card ♣8 has been choosen\n",
      "card ♠6 has been choosen\n",
      "♠9\n",
      "♣5\n",
      "card ♠7 has been choosen\n",
      "card ♦J has been choosen\n",
      "card ♥10 has been choosen\n",
      "card ♥J has been choosen\n",
      "card ♦9 has been choosen\n",
      "card ♠J has been choosen\n",
      "card ♣A has been choosen\n",
      "♥7\n",
      "card ♠J has been choosen\n",
      "card ♦2 has been choosen\n",
      "♦K\n",
      "card ♥K has been choosen\n",
      "card ♥10 has been choosen\n",
      "card ♣5 has been choosen\n",
      "card ♦5 has been choosen\n",
      "card ♥J has been choosen\n",
      "card ♥10 has been choosen\n",
      "card ♦K has been choosen\n",
      "♥2\n",
      "♦7\n",
      "card ♥3 has been choosen\n",
      "card ♦10 has been choosen\n",
      "card ♠J has been choosen\n",
      "♥5\n",
      "card ♥10 has been choosen\n",
      "card ♣J has been choosen\n",
      "card ♣J has been choosen\n",
      "card ♦2 has been choosen\n",
      "card ♠J has been choosen\n",
      "♦A\n",
      "card ♣5 has been choosen\n",
      "card ♠Q has been choosen\n",
      "card ♠J has been choosen\n",
      "♠3\n",
      "card ♠3 has been choosen\n",
      "♣6\n",
      "card ♥4 has been choosen\n",
      "card ♠6 has been choosen\n",
      "card ♥6 has been choosen\n",
      "card ♥5 has been choosen\n",
      "card ♣K has been choosen\n",
      "card ♥5 has been choosen\n",
      "card ♣8 has been choosen\n",
      "♥8\n",
      "card ♠8 has been choosen\n",
      "card ♠5 has been choosen\n",
      "card ♦3 has been choosen\n",
      "card ♦J has been choosen\n",
      "card ♣6 has been choosen\n",
      "card ♦8 has been choosen\n",
      "card ♠Q has been choosen\n",
      "card ♦K has been choosen\n",
      "card ♠3 has been choosen\n",
      "card ♠J has been choosen\n",
      "card ♠2 has been choosen\n",
      "card ♣10 has been choosen\n",
      "card ♦2 has been choosen\n",
      "card ♠A has been choosen\n",
      "♣9\n",
      "card ♦8 has been choosen\n",
      "card ♣9 has been choosen\n",
      "card ♦A has been choosen\n",
      "card ♣5 has been choosen\n",
      "card ♣K has been choosen\n",
      "card ♣9 has been choosen\n",
      "card ♦6 has been choosen\n",
      "card ♣A has been choosen\n",
      "card ♣9 has been choosen\n",
      "♣Q\n",
      "card ♣8 has been choosen\n",
      "card ♠8 has been choosen\n",
      "card ♠4 has been choosen\n",
      "card ♥10 has been choosen\n",
      "card ♠10 has been choosen\n",
      "card ♠8 has been choosen\n",
      "card ♠10 has been choosen\n",
      "card ♠3 has been choosen\n",
      "card ♦J has been choosen\n",
      "card ♥6 has been choosen\n",
      "card ♥5 has been choosen\n",
      "card ♣9 has been choosen\n",
      "card ♦4 has been choosen\n",
      "card ♥4 has been choosen\n",
      "card ♥Q has been choosen\n",
      "card ♥K has been choosen\n",
      "card ♥2 has been choosen\n",
      "card ♦6 has been choosen\n",
      "card ♦7 has been choosen\n",
      "card ♠J has been choosen\n",
      "card ♣J has been choosen\n",
      "card ♣8 has been choosen\n",
      "card ♣10 has been choosen\n",
      "card ♦7 has been choosen\n",
      "card ♦Q has been choosen\n",
      "card ♥9 has been choosen\n",
      "card ♣7 has been choosen\n",
      "♠K\n",
      "card ♠10 has been choosen\n",
      "card ♦3 has been choosen\n",
      "card ♦A has been choosen\n",
      "card ♦7 has been choosen\n",
      "card ♥9 has been choosen\n",
      "card ♥A has been choosen\n",
      "card ♣Q has been choosen\n",
      "card ♦9 has been choosen\n",
      "card ♣3 has been choosen\n",
      "card ♣9 has been choosen\n",
      "card ♦7 has been choosen\n",
      "card ♠9 has been choosen\n",
      "card ♥A has been choosen\n",
      "card ♣8 has been choosen\n",
      "card ♣A has been choosen\n",
      "card ♦K has been choosen\n",
      "card ♠3 has been choosen\n",
      "card ♦J has been choosen\n",
      "card ♥Q has been choosen\n",
      "card ♥Q has been choosen\n",
      "card ♥2 has been choosen\n",
      "card ♥5 has been choosen\n",
      "card ♦4 has been choosen\n",
      "card ♦6 has been choosen\n",
      "card ♥9 has been choosen\n",
      "card ♦8 has been choosen\n",
      "card ♠7 has been choosen\n",
      "card ♥K has been choosen\n",
      "card ♠9 has been choosen\n",
      "card ♠9 has been choosen\n",
      "card ♣A has been choosen\n",
      "card ♦2 has been choosen\n",
      "card ♦Q has been choosen\n",
      "card ♣Q has been choosen\n",
      "card ♥5 has been choosen\n",
      "card ♥9 has been choosen\n",
      "card ♠8 has been choosen\n",
      "card ♦2 has been choosen\n",
      "card ♦10 has been choosen\n",
      "♣4\n",
      "card ♥2 has been choosen\n",
      "card ♦8 has been choosen\n",
      "card ♦10 has been choosen\n",
      "card ♦8 has been choosen\n",
      "card ♥J has been choosen\n",
      "card ♠A has been choosen\n",
      "card ♠6 has been choosen\n",
      "card ♠2 has been choosen\n",
      "card ♥6 has been choosen\n",
      "card ♦6 has been choosen\n",
      "card ♣8 has been choosen\n",
      "card ♠10 has been choosen\n",
      "card ♣7 has been choosen\n",
      "card ♥7 has been choosen\n",
      "card ♠10 has been choosen\n",
      "card ♦J has been choosen\n",
      "card ♦A has been choosen\n",
      "card ♣A has been choosen\n",
      "♣2\n",
      "['♣10', '♥9', '♣A', '♣J', '♦6', '♠6', '♠4', '♦10', '♦3', '♦8', '♣7', '♣K', '♥K', '♣3', '♥J', '♥10', '♣8', '♠Q', '♠5', '♦Q', '♥6', '♠10', '♠7', '♦9', '♠2', '♦4', '♦J', '♠J', '♠8', '♠A', '♥Q', '♦2', '♥4', '♥A', '♦5', '♥3', '♠9', '♣5', '♥7', '♦K', '♥2', '♦7', '♥5', '♦A', '♠3', '♣6', '♥8', '♣9', '♣Q', '♠K', '♣4', '♣2']\n"
     ]
    }
   ],
   "source": [
    "import random\n",
    "cards=[]\n",
    "l=0\n",
    "m = ['\\u2660', '\\u2665', '\\u2666', '\\u2663']\n",
    "c=['2','3','4','5','6','7','8','9','10','J','Q','K','A']\n",
    "while(l<52):\n",
    "    n=random.choice(m)    \n",
    "    z=random.choice(c)\n",
    "    if n+z not in cards:\n",
    "        cards.append(n+z)\n",
    "        print(n+z)\n",
    "        l=l+1\n",
    "    else:\n",
    "        print('card {} has been choosen'.format(n+z))\n",
    "        \n",
    "print(cards)"
   ]
  },
  {
   "cell_type": "markdown",
   "metadata": {},
   "source": [
    "## card score game"
   ]
  },
  {
   "cell_type": "code",
   "execution_count": 110,
   "metadata": {},
   "outputs": [
    {
     "name": "stdout",
     "output_type": "stream",
     "text": [
      "you burst\n",
      "You scored 18 pionts\n"
     ]
    }
   ],
   "source": [
    "c=['2','3','4','5','6','7','8','9','10','11','12','13','14']\n",
    "t1=0\n",
    "t2=0\n",
    "score=0\n",
    "while((t1+t2)<21):\n",
    "    t1=int(random.choice(c))\n",
    "    t2=int(random.choice(c))\n",
    "    score=score+1\n",
    "print('you burst') \n",
    "print('You scored {} pionts'.format(score-1))"
   ]
  },
  {
   "cell_type": "markdown",
   "metadata": {},
   "source": [
    "## Sorting of tuple"
   ]
  },
  {
   "cell_type": "code",
   "execution_count": 132,
   "metadata": {},
   "outputs": [
    {
     "name": "stdout",
     "output_type": "stream",
     "text": [
      "[['John', 20, 90], ['Jony', 17, 91], ['Jony', 17, 93], ['Json', 21, 85], ['Tom', 19, 80]]\n",
      "<class 'tuple'>\n"
     ]
    }
   ],
   "source": [
    "name=(['Tom',19,80],\n",
    "    ['John',20,90],\n",
    "    ['Jony',17,91],\n",
    "    ['Jony',17,93],\n",
    "    ['Json',21,85])\n",
    "print(sorted(name))\n",
    "print(type(name))"
   ]
  },
  {
   "cell_type": "markdown",
   "metadata": {},
   "source": [
    "## Conversion of input to List Tuple"
   ]
  },
  {
   "cell_type": "code",
   "execution_count": 219,
   "metadata": {},
   "outputs": [
    {
     "name": "stdout",
     "output_type": "stream",
     "text": [
      "enter value1,4,5,36,22,10\n",
      "['1', '4', '5', '36', '22', '10']\n",
      "list : ['1', '4', '5', '36', '22', '10']\n",
      "tuple : ('1', '4', '5', '36', '22', '10')\n"
     ]
    }
   ],
   "source": [
    "list1=str(input('enter value')).split(',')\n",
    "print(list1)\n",
    "list2=list(list1)\n",
    "tup1=tuple(list1)\n",
    "print('list :',list2) \n",
    "print('tuple :',tup1)"
   ]
  },
  {
   "cell_type": "markdown",
   "metadata": {},
   "source": [
    "## Union of Tuples"
   ]
  },
  {
   "cell_type": "code",
   "execution_count": 6,
   "metadata": {
    "scrolled": true
   },
   "outputs": [
    {
     "name": "stdout",
     "output_type": "stream",
     "text": [
      "('Wednesday', 'Thursday', 'Friday', 'Sunday', 'Tuesday', 'Monday', 'Saturday')\n"
     ]
    }
   ],
   "source": [
    "week1=('Monday', 'Wednesday', 'Thursday', 'Saturday')\n",
    "week2=('Monday', 'Tuesday', 'Wednesday', 'Thursday', 'Friday', 'Saturday', 'Sunday')\n",
    "week1 = tuple(set(week1).union(set(week2)))\n",
    "print(week1)\n"
   ]
  },
  {
   "cell_type": "markdown",
   "metadata": {},
   "source": [
    "## Dictionary of Address"
   ]
  },
  {
   "cell_type": "code",
   "execution_count": 31,
   "metadata": {
    "scrolled": true
   },
   "outputs": [
    {
     "name": "stdout",
     "output_type": "stream",
     "text": [
      "Street  :3225 West Foster Avenue \r\n",
      " City  :Chicago \r\n",
      " State  :IL \r\n",
      " ZIP  :60625 \n"
     ]
    }
   ],
   "source": [
    "myaddress = {'street':'3225 West Foster Avenue','city':'Chicago', 'state':'IL','zip':'60625'}\n",
    "print('Street  :{} \\r\\n City  :{} \\r\\n State  :{} \\r\\n ZIP  :{} '.format(myaddress['street'],\\\n",
    "        myaddress['city'],myaddress['state'],myaddress['zip']))"
   ]
  },
  {
   "cell_type": "markdown",
   "metadata": {},
   "source": [
    "## Making a Dictionary having File Name and File Number"
   ]
  },
  {
   "cell_type": "code",
   "execution_count": 55,
   "metadata": {
    "scrolled": false
   },
   "outputs": [
    {
     "name": "stdout",
     "output_type": "stream",
     "text": [
      "{'data0001.txt': 1, 'data0002.txt': 2, 'data0003.txt': 3}\n"
     ]
    }
   ],
   "source": [
    "name= ['data0001.txt', 'data0002.txt','data0003.txt']\n",
    "file_dict ={}\n",
    "l=0\n",
    "for i in name:\n",
    "    l=l+1\n",
    "    file_dict[i]=l\n",
    "print(file_dict)    \n",
    "    \n",
    "    "
   ]
  },
  {
   "cell_type": "markdown",
   "metadata": {},
   "source": [
    "## To get shop's itemwise and total income for the day "
   ]
  },
  {
   "cell_type": "code",
   "execution_count": 2,
   "metadata": {},
   "outputs": [
    {
     "name": "stdout",
     "output_type": "stream",
     "text": [
      "\n",
      "         Enetr STOP to exit\n",
      "         Enter item name with value separated by , or space \n",
      "          \n",
      "enetr what you sold with no of items  : \n",
      " apple juice,5\n",
      " candy,5\n",
      " banana fries,5\n",
      " apple juice,6\n",
      " potato chips,7\n",
      " stop\n",
      "Today's stats. are  : \n",
      "\n",
      "Today's sail per items : \n",
      "('BANANA FRIES', 5)\n",
      "('POTATO CHIPS', 7)\n",
      "('APPLE JUICE', 11)\n",
      "('CANDY', 5)\n",
      "\n",
      "Today's Income per items : \n",
      "('BANANA FRIES', 100)\n",
      "('POTATO CHIPS', 140)\n",
      "('APPLE JUICE', 440)\n",
      "('CANDY', 50)\n",
      "\n",
      "Total Income   :  730\n"
     ]
    }
   ],
   "source": [
    "print('''\n",
    "         Enetr STOP to exit\n",
    "         Enter item name with value separated by , or space \n",
    "          ''')\n",
    "item_dict={'BANANA FRIES' : 0,\n",
    "           'POTATO CHIPS':0,\n",
    "           'APPLE JUICE':0,\n",
    "               'CANDY':0}\n",
    "price_dict={'BANANA FRIES' : 20,\n",
    "           'POTATO CHIPS':20,\n",
    "           'APPLE JUICE':40,\n",
    "               'CANDY':10}\n",
    "sail_dict={'BANANA FRIES' : 0,\n",
    "           'POTATO CHIPS':0,\n",
    "           'APPLE JUICE':0,\n",
    "               'CANDY':0}\n",
    "h='run'\n",
    "print('enetr what you sold with no of items  : ')\n",
    "while(h!='stop'):\n",
    "    h=input(' ')\n",
    "    if h!='stop':\n",
    "        try:\n",
    "            x,y=h.split(',')\n",
    "            item_dict[x.upper()]=item_dict[x.upper()]+int(y)\n",
    "        except:\n",
    "            print('INVALID INPUT')\n",
    "    else:\n",
    "        print(\"Today's stats. are  : \")\n",
    "for i in item_dict.keys():\n",
    "    sail_dict[i]=(item_dict[i]*price_dict[i])\n",
    "    \n",
    "print('')    \n",
    "print(\"Today's sail per items : \")    \n",
    "for i in item_dict.items():    \n",
    "    print(i)\n",
    "print('')    \n",
    "print(\"Today's Income per items : \")    \n",
    "for i in sail_dict.items():\n",
    "    \n",
    "    print(i)\n",
    "sum=0\n",
    "for i in sail_dict.values():\n",
    "    sum=sum+i\n",
    "    \n",
    "print('')    \n",
    "print('Total Income   : ',sum)    "
   ]
  },
  {
   "cell_type": "markdown",
   "metadata": {},
   "source": [
    "## TO CHECK TEEN IF NOT FIX IT"
   ]
  },
  {
   "cell_type": "code",
   "execution_count": 11,
   "metadata": {},
   "outputs": [
    {
     "name": "stdout",
     "output_type": "stream",
     "text": [
      "enter value for a :1\n",
      "enter value for b :2\n",
      "enter value for c :3\n",
      "sum of values is  : 6\n",
      "your dict is  : {'a': '1', 'b': '2', 'c': '3'}\n",
      "NOT A TEEN\n",
      "After teen fixing in teen {'a': '1', 'b': '2', 'c': 10}\n"
     ]
    }
   ],
   "source": [
    "dict1 ={'a': 2, 'b' : 15, 'c' : 13}\n",
    "sum=0\n",
    "for i in dict1.keys():\n",
    "    dict1[i]=input('enter value for {} :'.format(i))\n",
    "    sum=sum+int(dict1[i])\n",
    "print('sum of values is  :',sum)    \n",
    "print('your dict is  :',dict1) \n",
    "if sum in [19, 18, 17, 14, 13]:\n",
    "    print('TEEN')\n",
    "else:\n",
    "    print('NOT A TEEN')\n",
    "def teen_fixer(dict1):\n",
    "    if sum > 19:\n",
    "        total=sum-19\n",
    "        if int(dict1['c'])>=total:\n",
    "            dict1['c']=int(dict1['c'])-total\n",
    "        elif int(dict1['c'])+int(dict1['b'])>=total and int(dict1[c] < total):\n",
    "            dict1['c']=0\n",
    "            dict1['b']=int(dict1['b'])-(int(dict1['c'])-total)\n",
    "        elif int(dict1['c'])+int(dict1['b'])+int(dict1['a'])>=total and int(dict1['c'])+int(dict1['b'])<total:\n",
    "            \n",
    "            dict1['a']=int(dict1['a'])+int(dict1['b'])+int(dict1['c'])-total-4\n",
    "            dict1['c']=1\n",
    "            dict1['b']=3\n",
    "        else:\n",
    "            print('invalid input')\n",
    "            \n",
    "    elif sum < 13:\n",
    "        total=13-sum\n",
    "        dict1['c']=int(dict1['c'])+total\n",
    "        \n",
    "    else:\n",
    "                                        \n",
    "        print('Already fixes in teen ')\n",
    "    return dict1 \n",
    "\n",
    "\n",
    "print('After teen fixing in teen',teen_fixer(dict1))"
   ]
  },
  {
   "cell_type": "markdown",
   "metadata": {},
   "source": [
    "## Make a dict ,char as key and count as value"
   ]
  },
  {
   "cell_type": "code",
   "execution_count": 36,
   "metadata": {},
   "outputs": [
    {
     "name": "stdout",
     "output_type": "stream",
     "text": [
      "enter strintdasdasd\n",
      "{'d': 3, 'a': 2, 's': 2}\n",
      "enter char you want to know count  :z\n",
      "z not in string \n"
     ]
    }
   ],
   "source": [
    "str1=input('enter strint').replace(' ','').replace('.','')\n",
    "dict1={}\n",
    "for i in str1:\n",
    "    x=str1.count(i)\n",
    "    dict1[i]=x\n",
    "print(dict1)\n",
    "# for i in dict1:\n",
    "#     print('Char with Accurance is :',i,' -->',dict1[i])\n",
    "l=input('enter char you want to know count  :')\n",
    "if l in dict1.keys():\n",
    "    print(dict1[l])\n",
    "else:\n",
    "    print(l,'not in string ')"
   ]
  },
  {
   "cell_type": "markdown",
   "metadata": {},
   "source": [
    "## TO SHOW DISTRIBUTION OF CHAR IN A STRING"
   ]
  },
  {
   "cell_type": "code",
   "execution_count": 49,
   "metadata": {
    "scrolled": true
   },
   "outputs": [
    {
     "name": "stdout",
     "output_type": "stream",
     "text": [
      "enter strintasdgasjdjaksdk\n",
      "{'a': 3, 's': 3, 'd': 3, 'g': 1, 'j': 2, 'k': 2}\n",
      "char -> a Count -> 3 present  -> 21  %\n",
      "char -> s Count -> 3 present  -> 21  %\n",
      "char -> d Count -> 3 present  -> 21  %\n",
      "char -> g Count -> 1 present  -> 7  %\n",
      "char -> j Count -> 2 present  -> 14  %\n",
      "char -> k Count -> 2 present  -> 14  %\n"
     ]
    }
   ],
   "source": [
    "str1=input('enter strint').replace(' ','').replace('.','')\n",
    "dict1={}\n",
    "for i in str1:\n",
    "    x=str1.count(i)\n",
    "    dict1[i]=x\n",
    "print(dict1)\n",
    "\n",
    "sum=0\n",
    "for j in dict1.values():\n",
    "    sum=sum+j\n",
    "    \n",
    "\n",
    "for l in dict1.keys():\n",
    "    print('char -> {} Count -> {} present  -> {} '.format(l,dict1[l],round((dict1[l] / sum)*100)),'%')\n"
   ]
  },
  {
   "cell_type": "markdown",
   "metadata": {},
   "source": [
    "## TO COUNT NO. OF CHAR AND DIGIT  "
   ]
  },
  {
   "cell_type": "code",
   "execution_count": 61,
   "metadata": {},
   "outputs": [
    {
     "name": "stdout",
     "output_type": "stream",
     "text": [
      "enter your stringasdfghjwert@#$%^&\n",
      "asdfghjwert@#$%^&\n",
      "char count is =11 \n",
      "digit count is =0 \n",
      "other  =6\n"
     ]
    }
   ],
   "source": [
    "str2 = input('enter your string').replace(' ','').replace('.','').replace(',','')\n",
    "print(str2)\n",
    "d=0\n",
    "c=0\n",
    "other=0\n",
    "for i in str2:\n",
    "    if i.isdigit():\n",
    "        d=d+1\n",
    "    elif i.isalpha():\n",
    "        c=c+1\n",
    "    else:\n",
    "        other=other+1\n",
    "print('char count is = {} \\ndigit count is = {} \\nother  = {}'.format(c,d,other))        \n"
   ]
  },
  {
   "cell_type": "markdown",
   "metadata": {},
   "source": [
    "## TO CHECK ANAGRAM USING DICTIONARY"
   ]
  },
  {
   "cell_type": "code",
   "execution_count": 73,
   "metadata": {},
   "outputs": [
    {
     "name": "stdout",
     "output_type": "stream",
     "text": [
      "enetr strings :asdfghjkl lkjhgfdsa\n",
      "asdfghjkl lkjhgfdsa\n",
      "{'a': 1, 's': 1, 'd': 1, 'f': 1, 'g': 1, 'h': 1, 'j': 1, 'k': 1, 'l': 1}\n",
      "{'l': 1, 'k': 1, 'j': 1, 'h': 1, 'g': 1, 'f': 1, 'd': 1, 's': 1, 'a': 1}\n",
      "ANAGRAM  !!! \n"
     ]
    }
   ],
   "source": [
    "try:\n",
    "    str1, str2=input('enetr strings :').split(' ')\n",
    "    print(str1,str2)\n",
    "    if len(str1)==len(str2):\n",
    "        dict1={}\n",
    "        dict2={}\n",
    "        for i in str1:\n",
    "            dict1[i]=str1.count(i)\n",
    "        print(dict1)    \n",
    "\n",
    "        for i in str2:\n",
    "            dict2[i]=str2.count(i)\n",
    "        print(dict2) \n",
    "\n",
    "        for j in dict1.keys():\n",
    "            if dict1[j]==dict2[j]:\n",
    "                pass\n",
    "            else:\n",
    "                print('NOT AN ANAGRAM')\n",
    "                break\n",
    "\n",
    "\n",
    "\n",
    "        print('ANAGRAM  !!! ')\n",
    "\n",
    "    else:\n",
    "        print('NOT AN ANAGRAM')\n",
    "except:\n",
    "    print('Some Thing Not Good')"
   ]
  },
  {
   "cell_type": "markdown",
   "metadata": {},
   "source": [
    "## TO ENCRYPT A STRING"
   ]
  },
  {
   "cell_type": "code",
   "execution_count": 140,
   "metadata": {},
   "outputs": [
    {
     "name": "stdout",
     "output_type": "stream",
     "text": [
      "enter string to encriptionThe Quick Brown Fox Jumped Over The Lazy Dog\n",
      "Encrypted string is : Tjg Qwkem Btqyp Fqz Jworgf Oxgt Tjg Lcba Dqi\n"
     ]
    }
   ],
   "source": [
    "str1='abcdefghijklmnopqrstuvwxyzab'\n",
    "dict3={}\n",
    "for i in range(len(str1)-2):\n",
    "    dict3[str1[i]]=str1[i+2]\n",
    "# print(dict3)  \n",
    "uncoded=input('enter string to encription')\n",
    "coded=''\n",
    "# print(uncoded)\n",
    "for i in uncoded:\n",
    "    if i in dict3.keys():\n",
    "        coded=coded+dict3[i]\n",
    "    else:\n",
    "        coded=coded+i\n",
    "print('Encrypted string is :',coded)        "
   ]
  },
  {
   "cell_type": "markdown",
   "metadata": {},
   "source": [
    "## FOR INTERSECTION OF TWO LIST"
   ]
  },
  {
   "cell_type": "code",
   "execution_count": 107,
   "metadata": {
    "scrolled": true
   },
   "outputs": [
    {
     "name": "stdout",
     "output_type": "stream",
     "text": [
      "enetr list1   : 2 3 4 56 6\n",
      "enetr list2  : 1 2 3 4 5\n",
      "{'3', '2', ' ', '5', '4'}\n"
     ]
    }
   ],
   "source": [
    "list1 =list(input('enetr list1   : '))\n",
    "list2 = list(input('enetr list2  : '))\n",
    "print(set(list1).intersection(set(list2)))"
   ]
  },
  {
   "cell_type": "markdown",
   "metadata": {},
   "source": [
    "## TO REMOVE DUPLICATE VALUES"
   ]
  },
  {
   "cell_type": "code",
   "execution_count": 124,
   "metadata": {},
   "outputs": [
    {
     "name": "stdout",
     "output_type": "stream",
     "text": [
      "enetr list1   : 1,2,3,4,5,3,2,3,3,2,3,2,3\n",
      "['1', '2', '3', '4', '5']\n"
     ]
    }
   ],
   "source": [
    "list1 =list(input('enetr list1   : ').replace(' ','').replace(',',''))\n",
    "list1 = set(list1)\n",
    "print(sorted(list(list1)))  "
   ]
  },
  {
   "cell_type": "markdown",
   "metadata": {},
   "source": [
    "## TO CHECK COMMON EMAIL IN TWO LIST"
   ]
  },
  {
   "cell_type": "code",
   "execution_count": 61,
   "metadata": {
    "scrolled": true
   },
   "outputs": [
    {
     "name": "stdout",
     "output_type": "stream",
     "text": [
      "Common mails are  : \n",
      "\n",
      "\"msherr@me.com\" \n",
      "\"srour@icloud.com\" \n",
      "\"benits@outlook.com\" \n",
      "\"budinger@optonline.net\" \n",
      "\"manuals@live.com\" \n",
      "\"harryh@me.com\" \n",
      "\"rgiersig@gmail.com\" \n",
      "\"gbacon@live.com\" \n",
      "\"avollink@verizon.net\" \n",
      "\"mfburgo@live.com\" \n",
      "\"jcholewa@yahoo.ca\" \n",
      "\"pappp@msn.com\" \n",
      "\"heidrich@gmail.com\" \n",
      "\"danzigism@me.com\" \n",
      "\"arebenti@sbcglobal.net\" \n",
      "\"mfleming@yahoo.com\" \n",
      "\"smallpaul@msn.com\" \n",
      "\"seano@icloud.com\" \n",
      "\"marcs@live.com\" \n",
      "\"wagnerch@hotmail.com\" \n",
      "\"udrucker@verizon.net\" \n",
      "\"baveja@mac.com\" \n",
      "\"amky@me.com\" \n",
      "\"mgreen@gmail.com\" \n",
      "\"aaribaud@aol.com\" \n",
      "\"thassine@sbcglobal.net\" \n",
      "\"hermanab@live.com\" \n",
      "\"morain@sbcglobal.net\" \n",
      "\"shrapnull@att.net\" \n",
      "\"bulletin@yahoo.com\" \n",
      "\"jguyer@mac.com\" \n",
      "\"jhardin@outlook.com\" \n",
      "\"sabren@mac.com\" \n",
      "\"laird@icloud.com\" "
     ]
    }
   ],
   "source": [
    "data1=open('mailing1.txt','r')                     # reading from the file mailing1.txt\n",
    "f1= data1.read()\n",
    "data2=open('mailing2.txt','r')\n",
    "f2= data2.read()\n",
    "f3=open('mailing3.txt','a')                        # reading from the file mailing2.txt \n",
    "z2=f2.split('=')[1].split(',')\n",
    "z1=f1.split('=')[1].split(',')\n",
    "data1.close()\n",
    "data2.close()\n",
    "old_list=set(z1)\n",
    "new_list=set(z2)\n",
    "ce=old_list.intersection(new_list)\n",
    "if len(ce)>0:\n",
    "    print('Common mails are  : ')\n",
    "    for i in ce:\n",
    "        f3.write(i)                                 # writing to the file mailing3.txt\n",
    "        print(i,end=' ')\n",
    "    f3.close()    \n",
    "else:\n",
    "    print('No Emails are common  !!!')"
   ]
  },
  {
   "cell_type": "markdown",
   "metadata": {},
   "source": [
    "## Lambda Function\n"
   ]
  },
  {
   "cell_type": "code",
   "execution_count": 22,
   "metadata": {
    "scrolled": true
   },
   "outputs": [
    {
     "name": "stdout",
     "output_type": "stream",
     "text": [
      "enter number3\n",
      "square of the no. is  : 9\n"
     ]
    }
   ],
   "source": [
    "                                                        # lambda is 1 line function may be anonymous too\n",
    "x=input('enter number')\n",
    "def f(x):return int(x)**2                               # or lambda x : x**2\n",
    "print('square of the no. is  :',f(x))"
   ]
  },
  {
   "cell_type": "markdown",
   "metadata": {},
   "source": [
    "## Map Function"
   ]
  },
  {
   "cell_type": "code",
   "execution_count": 39,
   "metadata": {
    "scrolled": false
   },
   "outputs": [
    {
     "name": "stdout",
     "output_type": "stream",
     "text": [
      "double of every item in list is as below :\n",
      " [2, 4, 6, 8, 10, 12, 14, 16, 18]\n"
     ]
    }
   ],
   "source": [
    "y=[1,2,3,4,5,6,7,8,9]\n",
    "y=list(map(lambda x : x+x,y))                                # maps every element to its twice\n",
    "print('double of every item in list is as below :\\n',y)"
   ]
  },
  {
   "cell_type": "code",
   "execution_count": 40,
   "metadata": {},
   "outputs": [
    {
     "name": "stdout",
     "output_type": "stream",
     "text": [
      "[10, 10, 10, 10, 10, 10, 10, 10, 10]\n"
     ]
    }
   ],
   "source": [
    "list1=[1,2,3,4,5,6,7,8,9]\n",
    "list2=[9,8,7,6,5,4,3,2,1]                                   # gives sum of elments in list1 to corresponding elements in list2\n",
    "list3=list(map(lambda i, j :i +j,list1,list2))\n",
    "print(list3)"
   ]
  },
  {
   "cell_type": "markdown",
   "metadata": {},
   "source": [
    "## Filter Function"
   ]
  },
  {
   "cell_type": "code",
   "execution_count": 2,
   "metadata": {},
   "outputs": [
    {
     "name": "stdout",
     "output_type": "stream",
     "text": [
      "enter your mobile no.7410\n",
      "you have only 1 zero in your mob. no 7410 :\n"
     ]
    }
   ],
   "source": [
    "list1 = input('enter your mobile no.')\n",
    "list2 = ','.join(list1)\n",
    "list3=list(filter(lambda x : x=='0',list2.split(',')))              # gives only '0' in mob. no.\n",
    "\n",
    "print('you have only {} zero in your mob. no {} :'.format(len(list3),list1))"
   ]
  },
  {
   "cell_type": "markdown",
   "metadata": {},
   "source": [
    "## Reduce Fucntion"
   ]
  },
  {
   "cell_type": "code",
   "execution_count": 26,
   "metadata": {},
   "outputs": [
    {
     "name": "stdout",
     "output_type": "stream",
     "text": [
      "enter contact  no.741852963\n",
      "sum of your inputs is : 45\n"
     ]
    }
   ],
   "source": [
    "import functools\n",
    "list1 = input('enter contact  no.')\n",
    "list2 = functools.reduce(lambda i,j: int(i)+int(j),list1)             # reduces list as the sum of it's all elements\n",
    "print('sum of your inputs is :',list2)"
   ]
  },
  {
   "cell_type": "markdown",
   "metadata": {},
   "source": [
    "## Sum of Squares of Even NO.s in the List"
   ]
  },
  {
   "cell_type": "code",
   "execution_count": 21,
   "metadata": {},
   "outputs": [
    {
     "name": "stdout",
     "output_type": "stream",
     "text": [
      "list please 741852963\n",
      "Your list is : ['7', '4', '1', '8', '5', '2', '9', '6', '3']\n",
      "evens are  : ['4', '8', '2', '6']\n",
      "quares of evens are : [16, 64, 4, 36]\n",
      "sum of squares is : 120\n"
     ]
    }
   ],
   "source": [
    "import functools\n",
    "try:\n",
    "    list1 = list(input('list please ').replace(',','').replace(' ',''))\n",
    "    print('Your list is :',list1)\n",
    "    list2 = list(filter(lambda x: int(x)%2==0,list1))                   # gives all evens\n",
    "    if len(list2)!=0:\n",
    "        print('evens are  :',list2)\n",
    "        list3 = list(map(lambda x :int(x)**2,list2))                    # gives squares of every element\n",
    "        print('quares of evens are :',list3)\n",
    "        list4=functools.reduce(lambda x,y:x+y,list3)                    # gives sum of all elements\n",
    "        print('sum of squares is :',list4)\n",
    "    else:\n",
    "        print('No even found')\n",
    "except:\n",
    "    print('Something is not good')"
   ]
  },
  {
   "cell_type": "markdown",
   "metadata": {},
   "source": [
    "## Hands on with Dictionary"
   ]
  },
  {
   "cell_type": "code",
   "execution_count": 65,
   "metadata": {
    "scrolled": false
   },
   "outputs": [
    {
     "name": "stdout",
     "output_type": "stream",
     "text": [
      "['a', 's', 'd', 'f', 'g', 'h', 'j', 'k', 'l']\n",
      "we have  : {'a': 1, 's': 1, 'd': 1, 'f': 1, 'g': 1, 'h': 1, 'j': 1, 'k': 1, 'l': 1}\n",
      "after setdefault(\"a\",2) : {'a': 1, 's': 1, 'd': 1, 'f': 1, 'g': 1, 'h': 1, 'j': 1, 'k': 1, 'l': 1}\n",
      "after pop(\"a\")  : {'s': 1, 'd': 1, 'f': 1, 'g': 1, 'h': 1, 'j': 1, 'k': 1, 'l': 1}\n",
      "after popitem()   : {'s': 1, 'd': 1, 'f': 1, 'g': 1, 'h': 1, 'j': 1, 'k': 1, 'l': 1}\n",
      "after update(\"a\":1)  : {'s': 1, 'd': 1, 'f': 1, 'g': 1, 'h': 1, 'j': 1, 'k': 1, 'l': 1, 'a': 1}\n",
      "after clear()  : {}\n"
     ]
    }
   ],
   "source": [
    "list1=list(\"asdfghjkl\")\n",
    "print(list1)                                     # gives list of keys \n",
    "dict1={}\n",
    "dict1=dict1.fromkeys(list1,1)                    # makes dict taking kays from list1 and sets default values as 1\n",
    "print('we have  :',dict1)\n",
    "dict1.setdefault('a',2)                          # add key value pair only if not present\n",
    "print('after setdefault(\"a\",2) :',dict1)\n",
    "dict1.pop('a')                                   # removes element of given index\n",
    "print('after pop(\"a\")  :',dict1)\n",
    "dict1.popitem                                    # removes element from last \n",
    "print('after popitem()   :',dict1)\n",
    "dict1.update({'a':1})                            # adds key value pair\n",
    "print('after update(\"a\":1)  :',dict1)\n",
    "dict1.clear()                                    # mekes dict empty\n",
    "print('after clear()  :',dict1)"
   ]
  },
  {
   "cell_type": "code",
   "execution_count": 15,
   "metadata": {},
   "outputs": [
    {
     "name": "stdout",
     "output_type": "stream",
     "text": [
      "permutations  are  [(1, 2, 3), (1, 3, 2), (2, 1, 3), (2, 3, 1), (3, 1, 2), (3, 2, 1)]\n",
      " And Combinations [(1, 2, 3)] \n"
     ]
    }
   ],
   "source": [
    "import itertools\n",
    "list1 = list(itertools.permutations([1,2,3],3))\n",
    "list2 = list(itertools.combinations([1,2,3],3))\n",
    "print('permutations  are  {}\\n And Combinations {} '.format(list1,list2))"
   ]
  },
  {
   "cell_type": "markdown",
   "metadata": {},
   "source": [
    "# python_12 advance problems"
   ]
  },
  {
   "cell_type": "markdown",
   "metadata": {},
   "source": [
    "## Find all of the numbers from 1-1000 that are divisible by 7"
   ]
  },
  {
   "cell_type": "markdown",
   "metadata": {},
   "source": [
    "## method 1"
   ]
  },
  {
   "cell_type": "code",
   "execution_count": 25,
   "metadata": {
    "scrolled": true
   },
   "outputs": [
    {
     "name": "stdout",
     "output_type": "stream",
     "text": [
      "[7, 14, 21, 28, 35, 42, 49, 56, 63, 70, 77, 84, 91, 98, 105, 112, 119, 126, 133, 140, 147, 154, 161, 168, 175, 182, 189, 196, 203, 210, 217, 224, 231, 238, 245, 252, 259, 266, 273, 280, 287, 294, 301, 308, 315, 322, 329, 336, 343, 350, 357, 364, 371, 378, 385, 392, 399, 406, 413, 420, 427, 434, 441, 448, 455, 462, 469, 476, 483, 490, 497, 504, 511, 518, 525, 532, 539, 546, 553, 560, 567, 574, 581, 588, 595, 602, 609, 616, 623, 630, 637, 644, 651, 658, 665, 672, 679, 686, 693, 700, 707, 714, 721, 728, 735, 742, 749, 756, 763, 770, 777, 784, 791, 798, 805, 812, 819, 826, 833, 840, 847, 854, 861, 868, 875, 882, 889, 896, 903, 910, 917, 924, 931, 938, 945, 952, 959, 966, 973, 980, 987, 994]\n"
     ]
    }
   ],
   "source": [
    "def devision_by_7(n):                            # by functions\n",
    "    return n%7==0\n",
    "list1=[]        \n",
    "for i in range(1,1000):\n",
    "    if devision_by_7(i):\n",
    "        list1.append(i)\n",
    "print(list1)        \n",
    "        \n",
    "    "
   ]
  },
  {
   "cell_type": "markdown",
   "metadata": {},
   "source": [
    "## method 2"
   ]
  },
  {
   "cell_type": "code",
   "execution_count": 27,
   "metadata": {
    "scrolled": true
   },
   "outputs": [
    {
     "name": "stdout",
     "output_type": "stream",
     "text": [
      "[7, 14, 21, 28, 35, 42, 49, 56, 63, 70, 77, 84, 91, 98, 105, 112, 119, 126, 133, 140, 147, 154, 161, 168, 175, 182, 189, 196, 203, 210, 217, 224, 231, 238, 245, 252, 259, 266, 273, 280, 287, 294, 301, 308, 315, 322, 329, 336, 343, 350, 357, 364, 371, 378, 385, 392, 399, 406, 413, 420, 427, 434, 441, 448, 455, 462, 469, 476, 483, 490, 497, 504, 511, 518, 525, 532, 539, 546, 553, 560, 567, 574, 581, 588, 595, 602, 609, 616, 623, 630, 637, 644, 651, 658, 665, 672, 679, 686, 693, 700, 707, 714, 721, 728, 735, 742, 749, 756, 763, 770, 777, 784, 791, 798, 805, 812, 819, 826, 833, 840, 847, 854, 861, 868, 875, 882, 889, 896, 903, 910, 917, 924, 931, 938, 945, 952, 959, 966, 973, 980, 987, 994]\n"
     ]
    }
   ],
   "source": [
    "list1=[i for i in range(1,1000) if i%7==0]       # list comprehention\n",
    "print(list1)"
   ]
  },
  {
   "cell_type": "markdown",
   "metadata": {},
   "source": [
    "## method 3"
   ]
  },
  {
   "cell_type": "code",
   "execution_count": 30,
   "metadata": {},
   "outputs": [
    {
     "name": "stdout",
     "output_type": "stream",
     "text": [
      "[7, 14, 21, 28, 35, 42, 49, 56, 63, 70, 77, 84, 91, 98, 105, 112, 119, 126, 133, 140, 147, 154, 161, 168, 175, 182, 189, 196, 203, 210, 217, 224, 231, 238, 245, 252, 259, 266, 273, 280, 287, 294, 301, 308, 315, 322, 329, 336, 343, 350, 357, 364, 371, 378, 385, 392, 399, 406, 413, 420, 427, 434, 441, 448, 455, 462, 469, 476, 483, 490, 497, 504, 511, 518, 525, 532, 539, 546, 553, 560, 567, 574, 581, 588, 595, 602, 609, 616, 623, 630, 637, 644, 651, 658, 665, 672, 679, 686, 693, 700, 707, 714, 721, 728, 735, 742, 749, 756, 763, 770, 777, 784, 791, 798, 805, 812, 819, 826, 833, 840, 847, 854, 861, 868, 875, 882, 889, 896, 903, 910, 917, 924, 931, 938, 945, 952, 959, 966, 973, 980, 987, 994]\n"
     ]
    }
   ],
   "source": [
    "list1 = list(filter(lambda x: x%7==0,range(1,1000)))          # filter()\n",
    "print(list1)"
   ]
  },
  {
   "cell_type": "markdown",
   "metadata": {},
   "source": [
    "## Find all of the numbers from 1-1000 that have a 3 in them"
   ]
  },
  {
   "cell_type": "markdown",
   "metadata": {},
   "source": [
    "## method 1"
   ]
  },
  {
   "cell_type": "code",
   "execution_count": 36,
   "metadata": {},
   "outputs": [
    {
     "name": "stdout",
     "output_type": "stream",
     "text": [
      "[3, 13, 23, 30, 31, 32, 33, 34, 35, 36, 37, 38, 39, 43, 53, 63, 73, 83, 93, 103, 113, 123, 130, 131, 132, 133, 134, 135, 136, 137, 138, 139, 143, 153, 163, 173, 183, 193, 203, 213, 223, 230, 231, 232, 233, 234, 235, 236, 237, 238, 239, 243, 253, 263, 273, 283, 293, 300, 301, 302, 303, 304, 305, 306, 307, 308, 309, 310, 311, 312, 313, 314, 315, 316, 317, 318, 319, 320, 321, 322, 323, 324, 325, 326, 327, 328, 329, 330, 331, 332, 333, 334, 335, 336, 337, 338, 339, 340, 341, 342, 343, 344, 345, 346, 347, 348, 349, 350, 351, 352, 353, 354, 355, 356, 357, 358, 359, 360, 361, 362, 363, 364, 365, 366, 367, 368, 369, 370, 371, 372, 373, 374, 375, 376, 377, 378, 379, 380, 381, 382, 383, 384, 385, 386, 387, 388, 389, 390, 391, 392, 393, 394, 395, 396, 397, 398, 399, 403, 413, 423, 430, 431, 432, 433, 434, 435, 436, 437, 438, 439, 443, 453, 463, 473, 483, 493, 503, 513, 523, 530, 531, 532, 533, 534, 535, 536, 537, 538, 539, 543, 553, 563, 573, 583, 593, 603, 613, 623, 630, 631, 632, 633, 634, 635, 636, 637, 638, 639, 643, 653, 663, 673, 683, 693, 703, 713, 723, 730, 731, 732, 733, 734, 735, 736, 737, 738, 739, 743, 753, 763, 773, 783, 793, 803, 813, 823, 830, 831, 832, 833, 834, 835, 836, 837, 838, 839, 843, 853, 863, 873, 883, 893, 903, 913, 923, 930, 931, 932, 933, 934, 935, 936, 937, 938, 939, 943, 953, 963, 973, 983, 993]\n"
     ]
    }
   ],
   "source": [
    "def is_3(n):                                        # by functions\n",
    "    return '3' in n\n",
    "list1 = []\n",
    "for i in range(1,1000):\n",
    "    if is_3(str(i)):\n",
    "        list1.append(i)\n",
    "print(list1)        "
   ]
  },
  {
   "cell_type": "markdown",
   "metadata": {},
   "source": [
    "## method 2"
   ]
  },
  {
   "cell_type": "code",
   "execution_count": 40,
   "metadata": {},
   "outputs": [
    {
     "name": "stdout",
     "output_type": "stream",
     "text": [
      "[3, 13, 23, 30, 31, 32, 33, 34, 35, 36, 37, 38, 39, 43, 53, 63, 73, 83, 93, 103, 113, 123, 130, 131, 132, 133, 134, 135, 136, 137, 138, 139, 143, 153, 163, 173, 183, 193, 203, 213, 223, 230, 231, 232, 233, 234, 235, 236, 237, 238, 239, 243, 253, 263, 273, 283, 293, 300, 301, 302, 303, 304, 305, 306, 307, 308, 309, 310, 311, 312, 313, 314, 315, 316, 317, 318, 319, 320, 321, 322, 323, 324, 325, 326, 327, 328, 329, 330, 331, 332, 333, 334, 335, 336, 337, 338, 339, 340, 341, 342, 343, 344, 345, 346, 347, 348, 349, 350, 351, 352, 353, 354, 355, 356, 357, 358, 359, 360, 361, 362, 363, 364, 365, 366, 367, 368, 369, 370, 371, 372, 373, 374, 375, 376, 377, 378, 379, 380, 381, 382, 383, 384, 385, 386, 387, 388, 389, 390, 391, 392, 393, 394, 395, 396, 397, 398, 399, 403, 413, 423, 430, 431, 432, 433, 434, 435, 436, 437, 438, 439, 443, 453, 463, 473, 483, 493, 503, 513, 523, 530, 531, 532, 533, 534, 535, 536, 537, 538, 539, 543, 553, 563, 573, 583, 593, 603, 613, 623, 630, 631, 632, 633, 634, 635, 636, 637, 638, 639, 643, 653, 663, 673, 683, 693, 703, 713, 723, 730, 731, 732, 733, 734, 735, 736, 737, 738, 739, 743, 753, 763, 773, 783, 793, 803, 813, 823, 830, 831, 832, 833, 834, 835, 836, 837, 838, 839, 843, 853, 863, 873, 883, 893, 903, 913, 923, 930, 931, 932, 933, 934, 935, 936, 937, 938, 939, 943, 953, 963, 973, 983, 993]\n"
     ]
    }
   ],
   "source": [
    "list1 = [i for i in range(1,1000) if '3' in str(i)]       # by list comprehention\n",
    "print(list1)"
   ]
  },
  {
   "cell_type": "markdown",
   "metadata": {},
   "source": [
    "## method 3"
   ]
  },
  {
   "cell_type": "code",
   "execution_count": 44,
   "metadata": {},
   "outputs": [
    {
     "name": "stdout",
     "output_type": "stream",
     "text": [
      "[3, 13, 23, 30, 31, 32, 33, 34, 35, 36, 37, 38, 39, 43, 53, 63, 73, 83, 93, 103, 113, 123, 130, 131, 132, 133, 134, 135, 136, 137, 138, 139, 143, 153, 163, 173, 183, 193, 203, 213, 223, 230, 231, 232, 233, 234, 235, 236, 237, 238, 239, 243, 253, 263, 273, 283, 293, 300, 301, 302, 303, 304, 305, 306, 307, 308, 309, 310, 311, 312, 313, 314, 315, 316, 317, 318, 319, 320, 321, 322, 323, 324, 325, 326, 327, 328, 329, 330, 331, 332, 333, 334, 335, 336, 337, 338, 339, 340, 341, 342, 343, 344, 345, 346, 347, 348, 349, 350, 351, 352, 353, 354, 355, 356, 357, 358, 359, 360, 361, 362, 363, 364, 365, 366, 367, 368, 369, 370, 371, 372, 373, 374, 375, 376, 377, 378, 379, 380, 381, 382, 383, 384, 385, 386, 387, 388, 389, 390, 391, 392, 393, 394, 395, 396, 397, 398, 399, 403, 413, 423, 430, 431, 432, 433, 434, 435, 436, 437, 438, 439, 443, 453, 463, 473, 483, 493, 503, 513, 523, 530, 531, 532, 533, 534, 535, 536, 537, 538, 539, 543, 553, 563, 573, 583, 593, 603, 613, 623, 630, 631, 632, 633, 634, 635, 636, 637, 638, 639, 643, 653, 663, 673, 683, 693, 703, 713, 723, 730, 731, 732, 733, 734, 735, 736, 737, 738, 739, 743, 753, 763, 773, 783, 793, 803, 813, 823, 830, 831, 832, 833, 834, 835, 836, 837, 838, 839, 843, 853, 863, 873, 883, 893, 903, 913, 923, 930, 931, 932, 933, 934, 935, 936, 937, 938, 939, 943, 953, 963, 973, 983, 993]\n"
     ]
    }
   ],
   "source": [
    "list1 = list(filter( lambda x: '3' in str(x),range(1,1000)))\n",
    "print(list1)"
   ]
  },
  {
   "cell_type": "markdown",
   "metadata": {},
   "source": [
    "## Count the number of spaces in a string"
   ]
  },
  {
   "cell_type": "markdown",
   "metadata": {},
   "source": [
    "## Function method"
   ]
  },
  {
   "cell_type": "code",
   "execution_count": 46,
   "metadata": {},
   "outputs": [
    {
     "name": "stdout",
     "output_type": "stream",
     "text": [
      "2\n"
     ]
    }
   ],
   "source": [
    "def count_space(s):\n",
    "    return s.count(' ')\n",
    "str1 = 'afjbync aehrsgvskx h'\n",
    "print(count_space(str1))\n"
   ]
  },
  {
   "cell_type": "markdown",
   "metadata": {},
   "source": [
    "##  List comprehention"
   ]
  },
  {
   "cell_type": "code",
   "execution_count": 58,
   "metadata": {
    "scrolled": true
   },
   "outputs": [
    {
     "name": "stdout",
     "output_type": "stream",
     "text": [
      "2\n"
     ]
    }
   ],
   "source": [
    "str1 = 'afjbync aehrsgvskx h'\n",
    "n = [i for i in str1 if i==' ']\n",
    "print(len(n))"
   ]
  },
  {
   "cell_type": "markdown",
   "metadata": {},
   "source": [
    "## reduce()"
   ]
  },
  {
   "cell_type": "code",
   "execution_count": 59,
   "metadata": {},
   "outputs": [
    {
     "name": "stdout",
     "output_type": "stream",
     "text": [
      "2\n"
     ]
    }
   ],
   "source": [
    "str1 = 'afjbync aehrsgvskx h'\n",
    "c = list(filter(lambda x: x == ' ',str1))\n",
    "print(len(c))"
   ]
  },
  {
   "cell_type": "markdown",
   "metadata": {},
   "source": [
    "## Remove all of the vowels in a string"
   ]
  },
  {
   "cell_type": "markdown",
   "metadata": {},
   "source": [
    "## by fuction"
   ]
  },
  {
   "cell_type": "code",
   "execution_count": 69,
   "metadata": {
    "scrolled": true
   },
   "outputs": [
    {
     "name": "stdout",
     "output_type": "stream",
     "text": [
      "fjbync hrsgvskx h\n"
     ]
    }
   ],
   "source": [
    "def remove_vovels(s):\n",
    "    for i in s:\n",
    "        if i.lower() in ['a', 'e', 'i', 'o', 'u']:\n",
    "            s=s.replace(i,'')\n",
    "    return s      \n",
    "print(remove_vovels(str1))"
   ]
  },
  {
   "cell_type": "markdown",
   "metadata": {},
   "source": [
    "## List comprehention"
   ]
  },
  {
   "cell_type": "code",
   "execution_count": 72,
   "metadata": {},
   "outputs": [
    {
     "name": "stdout",
     "output_type": "stream",
     "text": [
      "fjbync hrsgvskx h\n"
     ]
    }
   ],
   "source": [
    "list1 = [i for i in str1 if i.lower() not in ['a', 'e', 'i', 'o', 'u']]\n",
    "print(''.join(list1))"
   ]
  },
  {
   "cell_type": "markdown",
   "metadata": {},
   "source": [
    "## filter()"
   ]
  },
  {
   "cell_type": "code",
   "execution_count": 76,
   "metadata": {
    "scrolled": true
   },
   "outputs": [
    {
     "name": "stdout",
     "output_type": "stream",
     "text": [
      "fjbync hrsgvskx h\n"
     ]
    }
   ],
   "source": [
    "list1 = list(filter(lambda x: x not in ['a', 'e', 'i', 'o', 'u'],str1))\n",
    "print(''.join(list1))"
   ]
  },
  {
   "cell_type": "markdown",
   "metadata": {},
   "source": [
    "## Find all of the words in a string that are less than 4 letters"
   ]
  },
  {
   "cell_type": "markdown",
   "metadata": {},
   "source": [
    "## by function"
   ]
  },
  {
   "cell_type": "code",
   "execution_count": 86,
   "metadata": {},
   "outputs": [
    {
     "name": "stdout",
     "output_type": "stream",
     "text": [
      "['dfghj', 'wertf', 'fghgh']\n"
     ]
    }
   ],
   "source": [
    "def len_4(n):\n",
    "    list2 = []\n",
    "    for i in n:      \n",
    "        if len(i)>4:\n",
    "            list2.append(i)\n",
    "    return list2\n",
    "list1 = ['dfgh', 'dfghj', 'wertf', 'fghgh']         \n",
    "print(len_4(list1))"
   ]
  },
  {
   "cell_type": "markdown",
   "metadata": {},
   "source": [
    "## list comprehention"
   ]
  },
  {
   "cell_type": "code",
   "execution_count": 90,
   "metadata": {},
   "outputs": [
    {
     "name": "stdout",
     "output_type": "stream",
     "text": [
      "['dfghj', 'wertf', 'fghgh']\n"
     ]
    }
   ],
   "source": [
    "list1 = ['dfgh', 'dfghj', 'wertf', 'fghgh']\n",
    "list2 = [i for i in list1 if len(i) >4]\n",
    "print(list2)"
   ]
  },
  {
   "cell_type": "markdown",
   "metadata": {},
   "source": [
    "## filter()"
   ]
  },
  {
   "cell_type": "code",
   "execution_count": 91,
   "metadata": {},
   "outputs": [
    {
     "name": "stdout",
     "output_type": "stream",
     "text": [
      "['dfghj', 'wertf', 'fghgh']\n"
     ]
    }
   ],
   "source": [
    "list2 =list(filter(lambda x: len(x)>4,list1))\n",
    "print(list2)"
   ]
  },
  {
   "cell_type": "markdown",
   "metadata": {},
   "source": [
    "## A list of all consonants in the sentence "
   ]
  },
  {
   "cell_type": "markdown",
   "metadata": {},
   "source": [
    "## function"
   ]
  },
  {
   "cell_type": "code",
   "execution_count": 96,
   "metadata": {
    "scrolled": true
   },
   "outputs": [
    {
     "name": "stdout",
     "output_type": "stream",
     "text": [
      "['Th', 'qck', 'brwn', 'fx', 'jmpd', 'vr', 'th', 'lzy', 'dg']\n"
     ]
    }
   ],
   "source": [
    "list1 = 'The quick brown fox jumped over the lazy dog'.split()\n",
    "def consonant(s):\n",
    "    for i in s:\n",
    "        if i in ['a', 'e', 'i', 'o', 'u']:\n",
    "            s=s.replace(i,'')\n",
    "    return s \n",
    "list2 = []\n",
    "for i in list1:\n",
    "    list2.append(consonant(i))\n",
    "print(list2)    "
   ]
  },
  {
   "cell_type": "markdown",
   "metadata": {},
   "source": [
    "## list comprehention"
   ]
  },
  {
   "cell_type": "code",
   "execution_count": 127,
   "metadata": {
    "scrolled": false
   },
   "outputs": [
    {
     "name": "stdout",
     "output_type": "stream",
     "text": [
      "Th qck brwn fx jmpd vr th lzy dg\n"
     ]
    }
   ],
   "source": [
    "list1 = 'The quick brown fox jumped over the lazy dog'\n",
    "\n",
    "list2 = [j for j in list1 if j not in ['a', 'e', 'i', 'o', 'u']]\n",
    "print(''.join(list2))\n"
   ]
  },
  {
   "cell_type": "markdown",
   "metadata": {},
   "source": [
    "## filter()"
   ]
  },
  {
   "cell_type": "code",
   "execution_count": 130,
   "metadata": {
    "scrolled": true
   },
   "outputs": [
    {
     "name": "stdout",
     "output_type": "stream",
     "text": [
      "Th qck brwn fx jmpd vr th lzy dg\n"
     ]
    }
   ],
   "source": [
    "list1 = 'The quick brown fox jumped over the lazy dog'\n",
    "list2 = list(filter(lambda x: x not in ['a', 'e', 'i', 'o', 'u'],list1))\n",
    "print(''.join(list2))"
   ]
  },
  {
   "cell_type": "markdown",
   "metadata": {},
   "source": [
    "## A list of all the capital letters (and not white space)"
   ]
  },
  {
   "cell_type": "markdown",
   "metadata": {},
   "source": [
    "## function"
   ]
  },
  {
   "cell_type": "code",
   "execution_count": 139,
   "metadata": {
    "scrolled": true
   },
   "outputs": [
    {
     "name": "stdout",
     "output_type": "stream",
     "text": [
      "['A', 'C', 'A']\n"
     ]
    }
   ],
   "source": [
    "list1 = []\n",
    "str1='A list of all the Capital letters And not white space'\n",
    "def caps(s):\n",
    "    for i in s:\n",
    "        if i in 'ABCDEFGHIJKLMNOPQRSTUVWXYZ':\n",
    "            list1.append(i)\n",
    "    return list1        \n",
    "print(caps(str1))            "
   ]
  },
  {
   "cell_type": "markdown",
   "metadata": {},
   "source": [
    "## list comprehention"
   ]
  },
  {
   "cell_type": "code",
   "execution_count": 143,
   "metadata": {},
   "outputs": [
    {
     "name": "stdout",
     "output_type": "stream",
     "text": [
      "['A', 'C', 'A']\n"
     ]
    }
   ],
   "source": [
    "str1='A list of all the Capital letters And not white space'\n",
    "list1 = [i for i in str1 if i in 'ABCDEFGHIJKLMNOPQRSTUVWXYZ']\n",
    "print(list1)"
   ]
  },
  {
   "cell_type": "markdown",
   "metadata": {},
   "source": [
    "## filter()"
   ]
  },
  {
   "cell_type": "code",
   "execution_count": 144,
   "metadata": {
    "scrolled": true
   },
   "outputs": [
    {
     "name": "stdout",
     "output_type": "stream",
     "text": [
      "['A', 'C', 'A']\n"
     ]
    }
   ],
   "source": [
    "str1='A list of all the Capital letters And not white space'\n",
    "list1 = list(filter(lambda x: x in 'ABCDEFGHIJKLMNOPQRSTUVWXYZ',str1))\n",
    "print(list1)"
   ]
  },
  {
   "cell_type": "markdown",
   "metadata": {},
   "source": [
    "## A list of all square numbers formed by squaring the numbers from 1 to 1000"
   ]
  },
  {
   "cell_type": "markdown",
   "metadata": {},
   "source": [
    "## function`"
   ]
  },
  {
   "cell_type": "code",
   "execution_count": 155,
   "metadata": {},
   "outputs": [
    {
     "name": "stdout",
     "output_type": "stream",
     "text": [
      "[1, 4, 9, 16, 25, 36, 49, 64, 81, 100, 121, 144, 169, 196, 225, 256, 289, 324, 361, 400, 441, 484, 529, 576, 625, 676, 729, 784, 841, 900, 961, 1024, 1089, 1156, 1225, 1296, 1369, 1444, 1521, 1600, 1681, 1764, 1849, 1936, 2025, 2116, 2209, 2304, 2401, 2500, 2601, 2704, 2809, 2916, 3025, 3136, 3249, 3364, 3481, 3600, 3721, 3844, 3969, 4096, 4225, 4356, 4489, 4624, 4761, 4900, 5041, 5184, 5329, 5476, 5625, 5776, 5929, 6084, 6241, 6400, 6561, 6724, 6889, 7056, 7225, 7396, 7569, 7744, 7921, 8100, 8281, 8464, 8649, 8836, 9025, 9216, 9409, 9604, 9801, 10000, 10201, 10404, 10609, 10816, 11025, 11236, 11449, 11664, 11881, 12100, 12321, 12544, 12769, 12996, 13225, 13456, 13689, 13924, 14161, 14400, 14641, 14884, 15129, 15376, 15625, 15876, 16129, 16384, 16641, 16900, 17161, 17424, 17689, 17956, 18225, 18496, 18769, 19044, 19321, 19600, 19881, 20164, 20449, 20736, 21025, 21316, 21609, 21904, 22201, 22500, 22801, 23104, 23409, 23716, 24025, 24336, 24649, 24964, 25281, 25600, 25921, 26244, 26569, 26896, 27225, 27556, 27889, 28224, 28561, 28900, 29241, 29584, 29929, 30276, 30625, 30976, 31329, 31684, 32041, 32400, 32761, 33124, 33489, 33856, 34225, 34596, 34969, 35344, 35721, 36100, 36481, 36864, 37249, 37636, 38025, 38416, 38809, 39204, 39601, 40000, 40401, 40804, 41209, 41616, 42025, 42436, 42849, 43264, 43681, 44100, 44521, 44944, 45369, 45796, 46225, 46656, 47089, 47524, 47961, 48400, 48841, 49284, 49729, 50176, 50625, 51076, 51529, 51984, 52441, 52900, 53361, 53824, 54289, 54756, 55225, 55696, 56169, 56644, 57121, 57600, 58081, 58564, 59049, 59536, 60025, 60516, 61009, 61504, 62001, 62500, 63001, 63504, 64009, 64516, 65025, 65536, 66049, 66564, 67081, 67600, 68121, 68644, 69169, 69696, 70225, 70756, 71289, 71824, 72361, 72900, 73441, 73984, 74529, 75076, 75625, 76176, 76729, 77284, 77841, 78400, 78961, 79524, 80089, 80656, 81225, 81796, 82369, 82944, 83521, 84100, 84681, 85264, 85849, 86436, 87025, 87616, 88209, 88804, 89401, 90000, 90601, 91204, 91809, 92416, 93025, 93636, 94249, 94864, 95481, 96100, 96721, 97344, 97969, 98596, 99225, 99856, 100489, 101124, 101761, 102400, 103041, 103684, 104329, 104976, 105625, 106276, 106929, 107584, 108241, 108900, 109561, 110224, 110889, 111556, 112225, 112896, 113569, 114244, 114921, 115600, 116281, 116964, 117649, 118336, 119025, 119716, 120409, 121104, 121801, 122500, 123201, 123904, 124609, 125316, 126025, 126736, 127449, 128164, 128881, 129600, 130321, 131044, 131769, 132496, 133225, 133956, 134689, 135424, 136161, 136900, 137641, 138384, 139129, 139876, 140625, 141376, 142129, 142884, 143641, 144400, 145161, 145924, 146689, 147456, 148225, 148996, 149769, 150544, 151321, 152100, 152881, 153664, 154449, 155236, 156025, 156816, 157609, 158404, 159201, 160000, 160801, 161604, 162409, 163216, 164025, 164836, 165649, 166464, 167281, 168100, 168921, 169744, 170569, 171396, 172225, 173056, 173889, 174724, 175561, 176400, 177241, 178084, 178929, 179776, 180625, 181476, 182329, 183184, 184041, 184900, 185761, 186624, 187489, 188356, 189225, 190096, 190969, 191844, 192721, 193600, 194481, 195364, 196249, 197136, 198025, 198916, 199809, 200704, 201601, 202500, 203401, 204304, 205209, 206116, 207025, 207936, 208849, 209764, 210681, 211600, 212521, 213444, 214369, 215296, 216225, 217156, 218089, 219024, 219961, 220900, 221841, 222784, 223729, 224676, 225625, 226576, 227529, 228484, 229441, 230400, 231361, 232324, 233289, 234256, 235225, 236196, 237169, 238144, 239121, 240100, 241081, 242064, 243049, 244036, 245025, 246016, 247009, 248004, 249001, 250000, 251001, 252004, 253009, 254016, 255025, 256036, 257049, 258064, 259081, 260100, 261121, 262144, 263169, 264196, 265225, 266256, 267289, 268324, 269361, 270400, 271441, 272484, 273529, 274576, 275625, 276676, 277729, 278784, 279841, 280900, 281961, 283024, 284089, 285156, 286225, 287296, 288369, 289444, 290521, 291600, 292681, 293764, 294849, 295936, 297025, 298116, 299209, 300304, 301401, 302500, 303601, 304704, 305809, 306916, 308025, 309136, 310249, 311364, 312481, 313600, 314721, 315844, 316969, 318096, 319225, 320356, 321489, 322624, 323761, 324900, 326041, 327184, 328329, 329476, 330625, 331776, 332929, 334084, 335241, 336400, 337561, 338724, 339889, 341056, 342225, 343396, 344569, 345744, 346921, 348100, 349281, 350464, 351649, 352836, 354025, 355216, 356409, 357604, 358801, 360000, 361201, 362404, 363609, 364816, 366025, 367236, 368449, 369664, 370881, 372100, 373321, 374544, 375769, 376996, 378225, 379456, 380689, 381924, 383161, 384400, 385641, 386884, 388129, 389376, 390625, 391876, 393129, 394384, 395641, 396900, 398161, 399424, 400689, 401956, 403225, 404496, 405769, 407044, 408321, 409600, 410881, 412164, 413449, 414736, 416025, 417316, 418609, 419904, 421201, 422500, 423801, 425104, 426409, 427716, 429025, 430336, 431649, 432964, 434281, 435600, 436921, 438244, 439569, 440896, 442225, 443556, 444889, 446224, 447561, 448900, 450241, 451584, 452929, 454276, 455625, 456976, 458329, 459684, 461041, 462400, 463761, 465124, 466489, 467856, 469225, 470596, 471969, 473344, 474721, 476100, 477481, 478864, 480249, 481636, 483025, 484416, 485809, 487204, 488601, 490000, 491401, 492804, 494209, 495616, 497025, 498436, 499849, 501264, 502681, 504100, 505521, 506944, 508369, 509796, 511225, 512656, 514089, 515524, 516961, 518400, 519841, 521284, 522729, 524176, 525625, 527076, 528529, 529984, 531441, 532900, 534361, 535824, 537289, 538756, 540225, 541696, 543169, 544644, 546121, 547600, 549081, 550564, 552049, 553536, 555025, 556516, 558009, 559504, 561001, 562500, 564001, 565504, 567009, 568516, 570025, 571536, 573049, 574564, 576081, 577600, 579121, 580644, 582169, 583696, 585225, 586756, 588289, 589824, 591361, 592900, 594441, 595984, 597529, 599076, 600625, 602176, 603729, 605284, 606841, 608400, 609961, 611524, 613089, 614656, 616225, 617796, 619369, 620944, 622521, 624100, 625681, 627264, 628849, 630436, 632025, 633616, 635209, 636804, 638401, 640000, 641601, 643204, 644809, 646416, 648025, 649636, 651249, 652864, 654481, 656100, 657721, 659344, 660969, 662596, 664225, 665856, 667489, 669124, 670761, 672400, 674041, 675684, 677329, 678976, 680625, 682276, 683929, 685584, 687241, 688900, 690561, 692224, 693889, 695556, 697225, 698896, 700569, 702244, 703921, 705600, 707281, 708964, 710649, 712336, 714025, 715716, 717409, 719104, 720801, 722500, 724201, 725904, 727609, 729316, 731025, 732736, 734449, 736164, 737881, 739600, 741321, 743044, 744769, 746496, 748225, 749956, 751689, 753424, 755161, 756900, 758641, 760384, 762129, 763876, 765625, 767376, 769129, 770884, 772641, 774400, 776161, 777924, 779689, 781456, 783225, 784996, 786769, 788544, 790321, 792100, 793881, 795664, 797449, 799236, 801025, 802816, 804609, 806404, 808201, 810000, 811801, 813604, 815409, 817216, 819025, 820836, 822649, 824464, 826281, 828100, 829921, 831744, 833569, 835396, 837225, 839056, 840889, 842724, 844561, 846400, 848241, 850084, 851929, 853776, 855625, 857476, 859329, 861184, 863041, 864900, 866761, 868624, 870489, 872356, 874225, 876096, 877969, 879844, 881721, 883600, 885481, 887364, 889249, 891136, 893025, 894916, 896809, 898704, 900601, 902500, 904401, 906304, 908209, 910116, 912025, 913936, 915849, 917764, 919681, 921600, 923521, 925444, 927369, 929296, 931225, 933156, 935089, 937024, 938961, 940900, 942841, 944784, 946729, 948676, 950625, 952576, 954529, 956484, 958441, 960400, 962361, 964324, 966289, 968256, 970225, 972196, 974169, 976144, 978121, 980100, 982081, 984064, 986049, 988036, 990025, 992016, 994009, 996004, 998001, 1000000]\n"
     ]
    }
   ],
   "source": [
    "def sqrr():\n",
    "    list2= []\n",
    "    for i in range(1,1001):\n",
    "        list2.append(i*i)\n",
    "    return list2  \n",
    "list1 = sqrr()\n",
    "print(list1)"
   ]
  },
  {
   "cell_type": "markdown",
   "metadata": {},
   "source": [
    "## list comprehention"
   ]
  },
  {
   "cell_type": "code",
   "execution_count": 154,
   "metadata": {
    "scrolled": true
   },
   "outputs": [
    {
     "name": "stdout",
     "output_type": "stream",
     "text": [
      "[0, 1, 4, 9, 16, 25, 36, 49, 64, 81, 100, 121, 144, 169, 196, 225, 256, 289, 324, 361, 400, 441, 484, 529, 576, 625, 676, 729, 784, 841, 900, 961, 1024, 1089, 1156, 1225, 1296, 1369, 1444, 1521, 1600, 1681, 1764, 1849, 1936, 2025, 2116, 2209, 2304, 2401, 2500, 2601, 2704, 2809, 2916, 3025, 3136, 3249, 3364, 3481, 3600, 3721, 3844, 3969, 4096, 4225, 4356, 4489, 4624, 4761, 4900, 5041, 5184, 5329, 5476, 5625, 5776, 5929, 6084, 6241, 6400, 6561, 6724, 6889, 7056, 7225, 7396, 7569, 7744, 7921, 8100, 8281, 8464, 8649, 8836, 9025, 9216, 9409, 9604, 9801, 10000, 10201, 10404, 10609, 10816, 11025, 11236, 11449, 11664, 11881, 12100, 12321, 12544, 12769, 12996, 13225, 13456, 13689, 13924, 14161, 14400, 14641, 14884, 15129, 15376, 15625, 15876, 16129, 16384, 16641, 16900, 17161, 17424, 17689, 17956, 18225, 18496, 18769, 19044, 19321, 19600, 19881, 20164, 20449, 20736, 21025, 21316, 21609, 21904, 22201, 22500, 22801, 23104, 23409, 23716, 24025, 24336, 24649, 24964, 25281, 25600, 25921, 26244, 26569, 26896, 27225, 27556, 27889, 28224, 28561, 28900, 29241, 29584, 29929, 30276, 30625, 30976, 31329, 31684, 32041, 32400, 32761, 33124, 33489, 33856, 34225, 34596, 34969, 35344, 35721, 36100, 36481, 36864, 37249, 37636, 38025, 38416, 38809, 39204, 39601, 40000, 40401, 40804, 41209, 41616, 42025, 42436, 42849, 43264, 43681, 44100, 44521, 44944, 45369, 45796, 46225, 46656, 47089, 47524, 47961, 48400, 48841, 49284, 49729, 50176, 50625, 51076, 51529, 51984, 52441, 52900, 53361, 53824, 54289, 54756, 55225, 55696, 56169, 56644, 57121, 57600, 58081, 58564, 59049, 59536, 60025, 60516, 61009, 61504, 62001, 62500, 63001, 63504, 64009, 64516, 65025, 65536, 66049, 66564, 67081, 67600, 68121, 68644, 69169, 69696, 70225, 70756, 71289, 71824, 72361, 72900, 73441, 73984, 74529, 75076, 75625, 76176, 76729, 77284, 77841, 78400, 78961, 79524, 80089, 80656, 81225, 81796, 82369, 82944, 83521, 84100, 84681, 85264, 85849, 86436, 87025, 87616, 88209, 88804, 89401, 90000, 90601, 91204, 91809, 92416, 93025, 93636, 94249, 94864, 95481, 96100, 96721, 97344, 97969, 98596, 99225, 99856, 100489, 101124, 101761, 102400, 103041, 103684, 104329, 104976, 105625, 106276, 106929, 107584, 108241, 108900, 109561, 110224, 110889, 111556, 112225, 112896, 113569, 114244, 114921, 115600, 116281, 116964, 117649, 118336, 119025, 119716, 120409, 121104, 121801, 122500, 123201, 123904, 124609, 125316, 126025, 126736, 127449, 128164, 128881, 129600, 130321, 131044, 131769, 132496, 133225, 133956, 134689, 135424, 136161, 136900, 137641, 138384, 139129, 139876, 140625, 141376, 142129, 142884, 143641, 144400, 145161, 145924, 146689, 147456, 148225, 148996, 149769, 150544, 151321, 152100, 152881, 153664, 154449, 155236, 156025, 156816, 157609, 158404, 159201, 160000, 160801, 161604, 162409, 163216, 164025, 164836, 165649, 166464, 167281, 168100, 168921, 169744, 170569, 171396, 172225, 173056, 173889, 174724, 175561, 176400, 177241, 178084, 178929, 179776, 180625, 181476, 182329, 183184, 184041, 184900, 185761, 186624, 187489, 188356, 189225, 190096, 190969, 191844, 192721, 193600, 194481, 195364, 196249, 197136, 198025, 198916, 199809, 200704, 201601, 202500, 203401, 204304, 205209, 206116, 207025, 207936, 208849, 209764, 210681, 211600, 212521, 213444, 214369, 215296, 216225, 217156, 218089, 219024, 219961, 220900, 221841, 222784, 223729, 224676, 225625, 226576, 227529, 228484, 229441, 230400, 231361, 232324, 233289, 234256, 235225, 236196, 237169, 238144, 239121, 240100, 241081, 242064, 243049, 244036, 245025, 246016, 247009, 248004, 249001, 250000, 251001, 252004, 253009, 254016, 255025, 256036, 257049, 258064, 259081, 260100, 261121, 262144, 263169, 264196, 265225, 266256, 267289, 268324, 269361, 270400, 271441, 272484, 273529, 274576, 275625, 276676, 277729, 278784, 279841, 280900, 281961, 283024, 284089, 285156, 286225, 287296, 288369, 289444, 290521, 291600, 292681, 293764, 294849, 295936, 297025, 298116, 299209, 300304, 301401, 302500, 303601, 304704, 305809, 306916, 308025, 309136, 310249, 311364, 312481, 313600, 314721, 315844, 316969, 318096, 319225, 320356, 321489, 322624, 323761, 324900, 326041, 327184, 328329, 329476, 330625, 331776, 332929, 334084, 335241, 336400, 337561, 338724, 339889, 341056, 342225, 343396, 344569, 345744, 346921, 348100, 349281, 350464, 351649, 352836, 354025, 355216, 356409, 357604, 358801, 360000, 361201, 362404, 363609, 364816, 366025, 367236, 368449, 369664, 370881, 372100, 373321, 374544, 375769, 376996, 378225, 379456, 380689, 381924, 383161, 384400, 385641, 386884, 388129, 389376, 390625, 391876, 393129, 394384, 395641, 396900, 398161, 399424, 400689, 401956, 403225, 404496, 405769, 407044, 408321, 409600, 410881, 412164, 413449, 414736, 416025, 417316, 418609, 419904, 421201, 422500, 423801, 425104, 426409, 427716, 429025, 430336, 431649, 432964, 434281, 435600, 436921, 438244, 439569, 440896, 442225, 443556, 444889, 446224, 447561, 448900, 450241, 451584, 452929, 454276, 455625, 456976, 458329, 459684, 461041, 462400, 463761, 465124, 466489, 467856, 469225, 470596, 471969, 473344, 474721, 476100, 477481, 478864, 480249, 481636, 483025, 484416, 485809, 487204, 488601, 490000, 491401, 492804, 494209, 495616, 497025, 498436, 499849, 501264, 502681, 504100, 505521, 506944, 508369, 509796, 511225, 512656, 514089, 515524, 516961, 518400, 519841, 521284, 522729, 524176, 525625, 527076, 528529, 529984, 531441, 532900, 534361, 535824, 537289, 538756, 540225, 541696, 543169, 544644, 546121, 547600, 549081, 550564, 552049, 553536, 555025, 556516, 558009, 559504, 561001, 562500, 564001, 565504, 567009, 568516, 570025, 571536, 573049, 574564, 576081, 577600, 579121, 580644, 582169, 583696, 585225, 586756, 588289, 589824, 591361, 592900, 594441, 595984, 597529, 599076, 600625, 602176, 603729, 605284, 606841, 608400, 609961, 611524, 613089, 614656, 616225, 617796, 619369, 620944, 622521, 624100, 625681, 627264, 628849, 630436, 632025, 633616, 635209, 636804, 638401, 640000, 641601, 643204, 644809, 646416, 648025, 649636, 651249, 652864, 654481, 656100, 657721, 659344, 660969, 662596, 664225, 665856, 667489, 669124, 670761, 672400, 674041, 675684, 677329, 678976, 680625, 682276, 683929, 685584, 687241, 688900, 690561, 692224, 693889, 695556, 697225, 698896, 700569, 702244, 703921, 705600, 707281, 708964, 710649, 712336, 714025, 715716, 717409, 719104, 720801, 722500, 724201, 725904, 727609, 729316, 731025, 732736, 734449, 736164, 737881, 739600, 741321, 743044, 744769, 746496, 748225, 749956, 751689, 753424, 755161, 756900, 758641, 760384, 762129, 763876, 765625, 767376, 769129, 770884, 772641, 774400, 776161, 777924, 779689, 781456, 783225, 784996, 786769, 788544, 790321, 792100, 793881, 795664, 797449, 799236, 801025, 802816, 804609, 806404, 808201, 810000, 811801, 813604, 815409, 817216, 819025, 820836, 822649, 824464, 826281, 828100, 829921, 831744, 833569, 835396, 837225, 839056, 840889, 842724, 844561, 846400, 848241, 850084, 851929, 853776, 855625, 857476, 859329, 861184, 863041, 864900, 866761, 868624, 870489, 872356, 874225, 876096, 877969, 879844, 881721, 883600, 885481, 887364, 889249, 891136, 893025, 894916, 896809, 898704, 900601, 902500, 904401, 906304, 908209, 910116, 912025, 913936, 915849, 917764, 919681, 921600, 923521, 925444, 927369, 929296, 931225, 933156, 935089, 937024, 938961, 940900, 942841, 944784, 946729, 948676, 950625, 952576, 954529, 956484, 958441, 960400, 962361, 964324, 966289, 968256, 970225, 972196, 974169, 976144, 978121, 980100, 982081, 984064, 986049, 988036, 990025, 992016, 994009, 996004, 998001, 1000000]\n"
     ]
    }
   ],
   "source": [
    "list2 = [i*i for i in range(0,1001)]\n",
    "print(list2)"
   ]
  },
  {
   "cell_type": "markdown",
   "metadata": {},
   "source": [
    "## filter()"
   ]
  },
  {
   "cell_type": "code",
   "execution_count": 159,
   "metadata": {
    "scrolled": true
   },
   "outputs": [
    {
     "name": "stdout",
     "output_type": "stream",
     "text": [
      "[1, 4, 9, 16, 25, 36, 49, 64, 81, 100, 121, 144, 169, 196, 225, 256, 289, 324, 361, 400, 441, 484, 529, 576, 625, 676, 729, 784, 841, 900, 961, 1024, 1089, 1156, 1225, 1296, 1369, 1444, 1521, 1600, 1681, 1764, 1849, 1936, 2025, 2116, 2209, 2304, 2401, 2500, 2601, 2704, 2809, 2916, 3025, 3136, 3249, 3364, 3481, 3600, 3721, 3844, 3969, 4096, 4225, 4356, 4489, 4624, 4761, 4900, 5041, 5184, 5329, 5476, 5625, 5776, 5929, 6084, 6241, 6400, 6561, 6724, 6889, 7056, 7225, 7396, 7569, 7744, 7921, 8100, 8281, 8464, 8649, 8836, 9025, 9216, 9409, 9604, 9801, 10000, 10201, 10404, 10609, 10816, 11025, 11236, 11449, 11664, 11881, 12100, 12321, 12544, 12769, 12996, 13225, 13456, 13689, 13924, 14161, 14400, 14641, 14884, 15129, 15376, 15625, 15876, 16129, 16384, 16641, 16900, 17161, 17424, 17689, 17956, 18225, 18496, 18769, 19044, 19321, 19600, 19881, 20164, 20449, 20736, 21025, 21316, 21609, 21904, 22201, 22500, 22801, 23104, 23409, 23716, 24025, 24336, 24649, 24964, 25281, 25600, 25921, 26244, 26569, 26896, 27225, 27556, 27889, 28224, 28561, 28900, 29241, 29584, 29929, 30276, 30625, 30976, 31329, 31684, 32041, 32400, 32761, 33124, 33489, 33856, 34225, 34596, 34969, 35344, 35721, 36100, 36481, 36864, 37249, 37636, 38025, 38416, 38809, 39204, 39601, 40000, 40401, 40804, 41209, 41616, 42025, 42436, 42849, 43264, 43681, 44100, 44521, 44944, 45369, 45796, 46225, 46656, 47089, 47524, 47961, 48400, 48841, 49284, 49729, 50176, 50625, 51076, 51529, 51984, 52441, 52900, 53361, 53824, 54289, 54756, 55225, 55696, 56169, 56644, 57121, 57600, 58081, 58564, 59049, 59536, 60025, 60516, 61009, 61504, 62001, 62500, 63001, 63504, 64009, 64516, 65025, 65536, 66049, 66564, 67081, 67600, 68121, 68644, 69169, 69696, 70225, 70756, 71289, 71824, 72361, 72900, 73441, 73984, 74529, 75076, 75625, 76176, 76729, 77284, 77841, 78400, 78961, 79524, 80089, 80656, 81225, 81796, 82369, 82944, 83521, 84100, 84681, 85264, 85849, 86436, 87025, 87616, 88209, 88804, 89401, 90000, 90601, 91204, 91809, 92416, 93025, 93636, 94249, 94864, 95481, 96100, 96721, 97344, 97969, 98596, 99225, 99856, 100489, 101124, 101761, 102400, 103041, 103684, 104329, 104976, 105625, 106276, 106929, 107584, 108241, 108900, 109561, 110224, 110889, 111556, 112225, 112896, 113569, 114244, 114921, 115600, 116281, 116964, 117649, 118336, 119025, 119716, 120409, 121104, 121801, 122500, 123201, 123904, 124609, 125316, 126025, 126736, 127449, 128164, 128881, 129600, 130321, 131044, 131769, 132496, 133225, 133956, 134689, 135424, 136161, 136900, 137641, 138384, 139129, 139876, 140625, 141376, 142129, 142884, 143641, 144400, 145161, 145924, 146689, 147456, 148225, 148996, 149769, 150544, 151321, 152100, 152881, 153664, 154449, 155236, 156025, 156816, 157609, 158404, 159201, 160000, 160801, 161604, 162409, 163216, 164025, 164836, 165649, 166464, 167281, 168100, 168921, 169744, 170569, 171396, 172225, 173056, 173889, 174724, 175561, 176400, 177241, 178084, 178929, 179776, 180625, 181476, 182329, 183184, 184041, 184900, 185761, 186624, 187489, 188356, 189225, 190096, 190969, 191844, 192721, 193600, 194481, 195364, 196249, 197136, 198025, 198916, 199809, 200704, 201601, 202500, 203401, 204304, 205209, 206116, 207025, 207936, 208849, 209764, 210681, 211600, 212521, 213444, 214369, 215296, 216225, 217156, 218089, 219024, 219961, 220900, 221841, 222784, 223729, 224676, 225625, 226576, 227529, 228484, 229441, 230400, 231361, 232324, 233289, 234256, 235225, 236196, 237169, 238144, 239121, 240100, 241081, 242064, 243049, 244036, 245025, 246016, 247009, 248004, 249001, 250000, 251001, 252004, 253009, 254016, 255025, 256036, 257049, 258064, 259081, 260100, 261121, 262144, 263169, 264196, 265225, 266256, 267289, 268324, 269361, 270400, 271441, 272484, 273529, 274576, 275625, 276676, 277729, 278784, 279841, 280900, 281961, 283024, 284089, 285156, 286225, 287296, 288369, 289444, 290521, 291600, 292681, 293764, 294849, 295936, 297025, 298116, 299209, 300304, 301401, 302500, 303601, 304704, 305809, 306916, 308025, 309136, 310249, 311364, 312481, 313600, 314721, 315844, 316969, 318096, 319225, 320356, 321489, 322624, 323761, 324900, 326041, 327184, 328329, 329476, 330625, 331776, 332929, 334084, 335241, 336400, 337561, 338724, 339889, 341056, 342225, 343396, 344569, 345744, 346921, 348100, 349281, 350464, 351649, 352836, 354025, 355216, 356409, 357604, 358801, 360000, 361201, 362404, 363609, 364816, 366025, 367236, 368449, 369664, 370881, 372100, 373321, 374544, 375769, 376996, 378225, 379456, 380689, 381924, 383161, 384400, 385641, 386884, 388129, 389376, 390625, 391876, 393129, 394384, 395641, 396900, 398161, 399424, 400689, 401956, 403225, 404496, 405769, 407044, 408321, 409600, 410881, 412164, 413449, 414736, 416025, 417316, 418609, 419904, 421201, 422500, 423801, 425104, 426409, 427716, 429025, 430336, 431649, 432964, 434281, 435600, 436921, 438244, 439569, 440896, 442225, 443556, 444889, 446224, 447561, 448900, 450241, 451584, 452929, 454276, 455625, 456976, 458329, 459684, 461041, 462400, 463761, 465124, 466489, 467856, 469225, 470596, 471969, 473344, 474721, 476100, 477481, 478864, 480249, 481636, 483025, 484416, 485809, 487204, 488601, 490000, 491401, 492804, 494209, 495616, 497025, 498436, 499849, 501264, 502681, 504100, 505521, 506944, 508369, 509796, 511225, 512656, 514089, 515524, 516961, 518400, 519841, 521284, 522729, 524176, 525625, 527076, 528529, 529984, 531441, 532900, 534361, 535824, 537289, 538756, 540225, 541696, 543169, 544644, 546121, 547600, 549081, 550564, 552049, 553536, 555025, 556516, 558009, 559504, 561001, 562500, 564001, 565504, 567009, 568516, 570025, 571536, 573049, 574564, 576081, 577600, 579121, 580644, 582169, 583696, 585225, 586756, 588289, 589824, 591361, 592900, 594441, 595984, 597529, 599076, 600625, 602176, 603729, 605284, 606841, 608400, 609961, 611524, 613089, 614656, 616225, 617796, 619369, 620944, 622521, 624100, 625681, 627264, 628849, 630436, 632025, 633616, 635209, 636804, 638401, 640000, 641601, 643204, 644809, 646416, 648025, 649636, 651249, 652864, 654481, 656100, 657721, 659344, 660969, 662596, 664225, 665856, 667489, 669124, 670761, 672400, 674041, 675684, 677329, 678976, 680625, 682276, 683929, 685584, 687241, 688900, 690561, 692224, 693889, 695556, 697225, 698896, 700569, 702244, 703921, 705600, 707281, 708964, 710649, 712336, 714025, 715716, 717409, 719104, 720801, 722500, 724201, 725904, 727609, 729316, 731025, 732736, 734449, 736164, 737881, 739600, 741321, 743044, 744769, 746496, 748225, 749956, 751689, 753424, 755161, 756900, 758641, 760384, 762129, 763876, 765625, 767376, 769129, 770884, 772641, 774400, 776161, 777924, 779689, 781456, 783225, 784996, 786769, 788544, 790321, 792100, 793881, 795664, 797449, 799236, 801025, 802816, 804609, 806404, 808201, 810000, 811801, 813604, 815409, 817216, 819025, 820836, 822649, 824464, 826281, 828100, 829921, 831744, 833569, 835396, 837225, 839056, 840889, 842724, 844561, 846400, 848241, 850084, 851929, 853776, 855625, 857476, 859329, 861184, 863041, 864900, 866761, 868624, 870489, 872356, 874225, 876096, 877969, 879844, 881721, 883600, 885481, 887364, 889249, 891136, 893025, 894916, 896809, 898704, 900601, 902500, 904401, 906304, 908209, 910116, 912025, 913936, 915849, 917764, 919681, 921600, 923521, 925444, 927369, 929296, 931225, 933156, 935089, 937024, 938961, 940900, 942841, 944784, 946729, 948676, 950625, 952576, 954529, 956484, 958441, 960400, 962361, 964324, 966289, 968256, 970225, 972196, 974169, 976144, 978121, 980100, 982081, 984064, 986049, 988036, 990025, 992016, 994009, 996004, 998001, 1000000]\n"
     ]
    }
   ],
   "source": [
    "list2 = list(map(lambda x: x*x,range(1,1001)))\n",
    "print(list2)"
   ]
  },
  {
   "cell_type": "markdown",
   "metadata": {},
   "source": [
    "## Mapping name to it's code name"
   ]
  },
  {
   "cell_type": "code",
   "execution_count": 21,
   "metadata": {
    "scrolled": true
   },
   "outputs": [
    {
     "name": "stdout",
     "output_type": "stream",
     "text": [
      "Enetr your nameMary\n",
      "Your code name is : ['Mr. Pink']\n"
     ]
    }
   ],
   "source": [
    "names = ['Mary', 'Isla', 'Sam']\n",
    "code_names = ['Mr. Pink', 'Mr. Orange', 'Mr. Blonde']\n",
    "try:\n",
    "    uname = input('Enetr your name')\n",
    "    list2= list(map(lambda x: code_names[names.index(x)],[names[names.index(uname)]]))  # maps name to its code\n",
    "    print('Your code name is :',list2)\n",
    "except:\n",
    "    print('You are not an agent')"
   ]
  },
  {
   "cell_type": "markdown",
   "metadata": {},
   "source": [
    "## Mapping name to it's Hash value"
   ]
  },
  {
   "cell_type": "code",
   "execution_count": 25,
   "metadata": {
    "scrolled": true
   },
   "outputs": [
    {
     "name": "stdout",
     "output_type": "stream",
     "text": [
      "Enetr your nameIsla\n",
      "Your code name is : [239960047401294816]\n"
     ]
    }
   ],
   "source": [
    "names = ['Mary', 'Isla', 'Sam']\n",
    "try:\n",
    "    uname = input('Enetr your name')\n",
    "    list2= list(map(lambda x: hash(x),[names[names.index(uname)]]))                     # maps name to it's hash \n",
    "    print('Your code name is :',str(list2))\n",
    "except:\n",
    "    print('You are not an agent')"
   ]
  },
  {
   "cell_type": "markdown",
   "metadata": {},
   "source": [
    "## Find heights average of height in given a list dictionary"
   ]
  },
  {
   "cell_type": "code",
   "execution_count": 104,
   "metadata": {},
   "outputs": [
    {
     "name": "stdout",
     "output_type": "stream",
     "text": [
      "<class 'list'>\n",
      "heights sum is :240 \n",
      "height_count is :2 \n",
      "And average of heights is :120.0 \n"
     ]
    }
   ],
   "source": [
    "people = [{'name': 'Mary', 'height': 160},\n",
    "         {'name': 'Isla', 'height': 80},\n",
    "         {'name': 'Sam'}]\n",
    "print(type(people))\n",
    "height=0\n",
    "height_count=0\n",
    "for i in people:\n",
    "    if 'height' in i:\n",
    "        height+=i['height']\n",
    "        height_count+=1\n",
    "print('heights sum is :{} \\nheight_count is :{} \\nAnd average of heights is :{} ' \\\n",
    "      .format(height,height_count,height/height_count))"
   ]
  },
  {
   "cell_type": "code",
   "execution_count": null,
   "metadata": {},
   "outputs": [],
   "source": []
  },
  {
   "cell_type": "markdown",
   "metadata": {},
   "source": [
    "## Above problem with filter(), map() and reduce()"
   ]
  },
  {
   "cell_type": "code",
   "execution_count": 99,
   "metadata": {
    "scrolled": false
   },
   "outputs": [
    {
     "name": "stdout",
     "output_type": "stream",
     "text": [
      " Heights we have, are :[160, 80]\n",
      " Sum :240\n",
      " Average :120.0\n"
     ]
    }
   ],
   "source": [
    "import functools\n",
    "people = [{'name': 'Mary', 'height': 160},\n",
    "          {'name': 'Isla', 'height': 80},\n",
    "          {'name': 'Sam'}]\n",
    "list1 = list(filter(lambda x: 'height' in x,people))\n",
    "list2 = list(map(lambda x: x['height'],list1))\n",
    "sum = functools.reduce(lambda x, y: x+y,list2)\n",
    "print(' Heights we have, are :{}\\n Sum :{}\\n Average :{}'.format(list2,sum,sum/len(list2)))"
   ]
  },
  {
   "cell_type": "markdown",
   "metadata": {},
   "source": [
    "## Creating Fahrenheit to Celsius dictionary"
   ]
  },
  {
   "cell_type": "code",
   "execution_count": 97,
   "metadata": {
    "scrolled": false
   },
   "outputs": [
    {
     "name": "stdout",
     "output_type": "stream",
     "text": [
      "('t1', -30) \n",
      " ('t2', -20)\n",
      "('t3', -10) \n",
      " ('t4', 0)\n",
      "('t1', -48.66666666666667) \n",
      " ('t2', -43.111111111111114)\n",
      "('t3', -37.55555555555556) \n",
      " ('t4', -32.0)\n"
     ]
    }
   ],
   "source": [
    "fahrenheit = {'t1':-30, 't2':-20, 't3':-10, 't4':0}\n",
    "celsius = {}\n",
    "for i, j in fahrenheit.items():\n",
    "    celsius[i]=float(j)*(5/9)-32\n",
    "for i,j,k,l in fahrenheit.items(),celsius.items():\n",
    "    print(i,'\\n',j,) \n",
    "    print(k,'\\n',l)"
   ]
  },
  {
   "cell_type": "markdown",
   "metadata": {},
   "source": [
    "## Getting total price of order no. using map()"
   ]
  },
  {
   "cell_type": "code",
   "execution_count": 129,
   "metadata": {
    "scrolled": false
   },
   "outputs": [
    {
     "name": "stdout",
     "output_type": "stream",
     "text": [
      "Oreder Number  Total price\n",
      "('34587', 163.8)\n",
      "('98762', 284.0)\n",
      "('77226', 98.85)\n",
      "('88112', 74.97)\n"
     ]
    }
   ],
   "source": [
    "orders = [ [\"34587\", \"Learning Python, Mark Lutz\", 4, 40.95], \n",
    "         [\"98762\", \"Programming Python, Mark Lutz\", 5, 56.80], \n",
    "           [\"77226\", \"Head First Python, Paul Barry\", 3,32.95],\n",
    "           [\"88112\", \"Einführung in Python3, Bernd Klein\",  3, 24.99]]\n",
    "\n",
    "list1 = list(map(lambda x: (x[0],x[-2],x[-1]),orders))               # gives order no., no. of items and price per item\n",
    "list2 = list(map(lambda x: (x[0],round((x[1]*x[2]),2)),list1))       # gives order no. and total price\n",
    "print('Oreder Number  Total price')\n",
    "for i in list2:\n",
    "    print(i)    \n",
    "    "
   ]
  },
  {
   "cell_type": "code",
   "execution_count": 187,
   "metadata": {
    "scrolled": false
   },
   "outputs": [
    {
     "name": "stdout",
     "output_type": "stream",
     "text": [
      "Order no.   Total price\n",
      "88112   -->   474.64\n",
      "9744   -->   809.1\n",
      "5464   -->   219.78\n",
      "8732   -->   83.93\n",
      "8274   -->   233.82\n",
      "7733   -->   208.89\n"
     ]
    }
   ],
   "source": [
    "orders1 = [ [1, (\"5464\", 4, 9.99), (\"8274\",18,12.99), (\"9744\", 9, 44.95)], \n",
    "          [2, (\"5464\", 9, 9.99), (\"9744\", 9, 44.95)],\n",
    "          [3, (\"5464\", 9, 9.99), (\"88112\", 11, 24.99)],\n",
    "          [4, (\"8732\", 7, 11.99), (\"7733\",11,18.99), (\"88112\", 5, 39.95)] ]\n",
    "list1 = list(map(lambda x: x[1:],orders1))\n",
    "list2 = []\n",
    "for i in list1:\n",
    "    list2.extend(i)                                                      # mja nhi aya karne me\n",
    "list3 = list(map(lambda x: (x[0],(x[1]*x[2])),list2))\n",
    "list4 = list(map(lambda x: x[0],list3))\n",
    "list4 = list(set(list4))\n",
    "dict1 = {}\n",
    "dict1 = dict1.fromkeys(list4,0)\n",
    "for i in list3:\n",
    "    dict1[i[0]]+=i[1]\n",
    "print('Order no.   Total price')    \n",
    "for i, j in dict1.items():    \n",
    "    print(i,'  -->  ',j)      "
   ]
  },
  {
   "cell_type": "code",
   "execution_count": 210,
   "metadata": {
    "scrolled": true
   },
   "outputs": [
    {
     "name": "stdout",
     "output_type": "stream",
     "text": [
      "\"chen\":\"India,Tamil Nadu\",\"value\": 54.77  \n",
      "\"mah\":\"India,Maharashtra\",\"value\": 179.71\n"
     ]
    }
   ],
   "source": [
    "list1=[[1,'Mumbai',124.42,'Maharashtra'],\n",
    "       [9,'Pune',31.24,'Maharashtra'],\n",
    "       [13,'Nagpur',24.05,'Maharashtra'],\n",
    "       [6,'Chennai',46.46,'Tamil Nadu'],\n",
    "       [59,'Salem',8.31,'Tamil Nadu']]\n",
    "list2 = list(filter(lambda x: x[-1]=='Maharashtra',list1))\n",
    "list3 = list(filter(lambda x: x[-1]=='Tamil Nadu',list1))\n",
    "list4 = list(map(lambda x: x[2],list2))\n",
    "list5 = list(map(lambda x: x[2],list3))\n",
    "mah = functools.reduce(lambda a,b:a+b,list4)\n",
    "chen =functools.reduce(lambda a,b:a+b,list5)\n",
    "print('\"chen\":\"India,Tamil Nadu\",\"value\":',chen,' \\n' \\\n",
    "    '\"mah\":\"India,Maharashtra\",\"value\":',mah)\n",
    "\n"
   ]
  },
  {
   "cell_type": "markdown",
   "metadata": {},
   "source": [
    "## Fahrenheit to celsius "
   ]
  },
  {
   "cell_type": "code",
   "execution_count": 233,
   "metadata": {
    "scrolled": true
   },
   "outputs": [
    {
     "name": "stdout",
     "output_type": "stream",
     "text": [
      "{'t1': -49, 't2': -43, 't3': -38, 't4': -32}\n"
     ]
    }
   ],
   "source": [
    "fahrenheit = {'t1':-30, 't2':-20, 't3':-10, 't4':0}\n",
    "celsius = {}\n",
    "celsius = dict(zip(fahrenheit.keys(),fahrenheit.values()))\n",
    "for i, j in celsius.items():\n",
    "    celsius[i] = round(celsius[i]*(5/9)-32)\n",
    "print(celsius)    "
   ]
  },
  {
   "cell_type": "markdown",
   "metadata": {},
   "source": [
    "## computes the product of all the odd numbers"
   ]
  },
  {
   "cell_type": "code",
   "execution_count": 248,
   "metadata": {
    "scrolled": true
   },
   "outputs": [
    {
     "name": "stdout",
     "output_type": "stream",
     "text": [
      "enter list of numbers  :1,2,3,4,5,6,7,8,9\n",
      "odds are : ['1', '3', '5', '7', '9']\n",
      "Product is : 945\n"
     ]
    }
   ],
   "source": [
    "list1 = input('enter list of numbers  :').split(',')\n",
    "list2 = list(filter(lambda x: int(x)%2!=0,list1))                # gives all odds\n",
    "print('odds are :',list2)\n",
    "list3 = functools.reduce(lambda x, y: int(x)*int(y),list2)       # multiplies all oddd\n",
    "print('Product is :',list3)\n"
   ]
  },
  {
   "cell_type": "markdown",
   "metadata": {},
   "source": [
    "## remove stopword=['a', 'b', 'c', 'd']"
   ]
  },
  {
   "cell_type": "code",
   "execution_count": 256,
   "metadata": {},
   "outputs": [
    {
     "name": "stdout",
     "output_type": "stream",
     "text": [
      " enter stringadu  ecurwe yr e ry \n",
      "You entered  :  \n",
      " u  eurwe yr e ry\n",
      "After removing stop words   :\n",
      " u  eurwe yr e ry\n"
     ]
    }
   ],
   "source": [
    "str1 = input(' enter string').strip().replace('a','').replace('b','').replace('c','').replace('d','')  # removes all stop words\n",
    "\n",
    "\n",
    "                                                    \n",
    "\n",
    "print('You entered  :  \\n',str1)\n",
    "print('After removing stop words   :\\n',str1)\n",
    "\n"
   ]
  }
 ],
 "metadata": {
  "kernelspec": {
   "display_name": "Python 3",
   "language": "python",
   "name": "python3"
  },
  "language_info": {
   "codemirror_mode": {
    "name": "ipython",
    "version": 3
   },
   "file_extension": ".py",
   "mimetype": "text/x-python",
   "name": "python",
   "nbconvert_exporter": "python",
   "pygments_lexer": "ipython3",
   "version": "3.7.4"
  }
 },
 "nbformat": 4,
 "nbformat_minor": 2
}
